{
 "cells": [
  {
   "cell_type": "code",
   "execution_count": 17,
   "metadata": {},
   "outputs": [
    {
     "name": "stdout",
     "output_type": "stream",
     "text": [
      "Populating the interactive namespace from numpy and matplotlib\n"
     ]
    }
   ],
   "source": [
    "from SloppyCell.ReactionNetworks import *\n",
    "import matplotlib.pyplot as plt\n",
    "%pylab inline"
   ]
  },
  {
   "cell_type": "code",
   "execution_count": 12,
   "metadata": {
    "collapsed": true
   },
   "outputs": [],
   "source": [
    "model = IO.from_SBML_file('../model/model.xml', id='full_model')"
   ]
  },
  {
   "cell_type": "code",
   "execution_count": 32,
   "metadata": {},
   "outputs": [],
   "source": [
    "model.set_var_ic('paurb',0)\n",
    "traj =model.integrate([0,5])"
   ]
  },
  {
   "cell_type": "code",
   "execution_count": 33,
   "metadata": {},
   "outputs": [
    {
     "data": {
      "text/plain": [
       "[<matplotlib.lines.Line2D at 0x116e37250>]"
      ]
     },
     "execution_count": 33,
     "metadata": {},
     "output_type": "execute_result"
    },
    {
     "data": {
      "image/png": "[encoded data removed]",
      "text/plain": [
       "<matplotlib.figure.Figure at 0x116e37a90>"
      ]
     },
     "metadata": {},
     "output_type": "display_data"
    }
   ],
   "source": [
    "plt.plot(traj.timepoints, traj.get_var_traj('aurb'))\n",
    "plt.plot(traj.timepoints, traj.get_var_traj('paurb'))"
   ]
  },
  {
   "cell_type": "code",
   "execution_count": 31,
   "metadata": {},
   "outputs": [
    {
     "data": {
      "text/plain": [
       "{'assignments': {'aurb': 'aurb_tot - paurb',\n",
       "  'bub1': 'bub1_tot - pmelt_bub1 - pmelt_bub1_pp2a',\n",
       "  'melt': 'kln1_tot - (pmelt + pmelt_bub1_pp2a + pmelt_bub1)',\n",
       "  'pmelt_tot': 'pmelt + pmelt_bub1 + pmelt_bub1_pp2a',\n",
       "  'pp1': 'pp1_tot - rvsf_pp1',\n",
       "  'pp2a': 'pp2a_tot - pmelt_bub1_pp2a',\n",
       "  'prvsf': 'kln1_tot - (rvsf + rvsf_pp1)'},\n",
       " 'constraints': {},\n",
       " 'events': {},\n",
       " 'functions': {},\n",
       " 'odes': {'mps1': '0',\n",
       "  'paurb': 'aurb*pmelt_bub1*kp_aurb_bub1 + aurb*paurb*kp_aurb_aurb - paurb*pmelt_bub1_pp2a*kdp_aurb_pp2a - paurb*rvsf_pp1*kdp_aurb_pp1',\n",
       "  'pmelt': 'pmelt_bub1*kd_pmelt_bub1 + melt*mps1*kp_melt - pmelt*bub1*kb_pmelt_bub1 - pmelt*rvsf_pp1*kdp_melt',\n",
       "  'pmelt_bub1': 'pmelt*bub1*kb_pmelt_bub1 + pmelt_bub1_pp2a*kd_pmelt_bub1_pp2a - pmelt_bub1*kd_pmelt_bub1 - pmelt_bub1*pp2a*kb_pmelt_bub1_pp2a',\n",
       "  'pmelt_bub1_pp2a': 'pmelt_bub1*pp2a*kb_pmelt_bub1_pp2a - pmelt_bub1_pp2a*kd_pmelt_bub1_pp2a',\n",
       "  'rvsf': 'rvsf_pp1*kd_rvsf_pp1 + prvsf*pmelt_bub1_pp2a*kdp_rvsf_pp2a + prvsf*rvsf_pp1*kdp_rvsf_pp1 - pp1*rvsf*kb_rvsf_pp1 - rvsf*aurb*kp_rvsf',\n",
       "  'rvsf_pp1': 'pp1*rvsf*kb_rvsf_pp1 - rvsf_pp1*kd_rvsf_pp1'},\n",
       " 'parameters': {'aurb_tot': 1.0,\n",
       "  'bub1_tot': 10.0,\n",
       "  'cOne': 1.0,\n",
       "  'kb_pmelt_bub1': 1.0,\n",
       "  'kb_pmelt_bub1_pp2a': 1.0,\n",
       "  'kb_rvsf_pp1': 1.0,\n",
       "  'kd_pmelt_bub1': 1.0,\n",
       "  'kd_pmelt_bub1_pp2a': 1.0,\n",
       "  'kd_rvsf_pp1': 1.0,\n",
       "  'kdp_aurb_pp1': 1.0,\n",
       "  'kdp_aurb_pp2a': 1.0,\n",
       "  'kdp_melt': 1.0,\n",
       "  'kdp_rvsf_pp1': 1.0,\n",
       "  'kdp_rvsf_pp2a': 1.0,\n",
       "  'kln1_tot': 1.0,\n",
       "  'kp_aurb_aurb': 1.0,\n",
       "  'kp_aurb_bub1': 1.0,\n",
       "  'kp_melt': 1.0,\n",
       "  'kp_rvsf': 1.0,\n",
       "  'pp1_tot': 10.0,\n",
       "  'pp2a_tot': 10.0}}"
      ]
     },
     "execution_count": 31,
     "metadata": {},
     "output_type": "execute_result"
    }
   ],
   "source": [
    "model.get_eqn_structure()"
   ]
  },
  {
   "cell_type": "code",
   "execution_count": null,
   "metadata": {
    "collapsed": true
   },
   "outputs": [],
   "source": []
  }
 ],
 "metadata": {
  "kernelspec": {
   "display_name": "Python 2",
   "language": "python",
   "name": "python2"
  },
  "language_info": {
   "codemirror_mode": {
    "name": "ipython",
    "version": 2
   },
   "file_extension": ".py",
   "mimetype": "text/x-python",
   "name": "python",
   "nbconvert_exporter": "python",
   "pygments_lexer": "ipython2",
   "version": "2.7.13"
  }
 },
 "nbformat": 4,
 "nbformat_minor": 2
}
