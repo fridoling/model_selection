{
 "cells": [
  {
   "cell_type": "code",
   "execution_count": 569,
   "metadata": {},
   "outputs": [],
   "source": [
    "from SloppyCell.ReactionNetworks import *\n",
    "import numpy as np\n",
    "import matplotlib.pyplot as plt\n",
    "import itertools as it\n",
    "import conditions as cnd"
   ]
  },
  {
   "cell_type": "code",
   "execution_count": 570,
   "metadata": {
    "code_folding": []
   },
   "outputs": [],
   "source": [
    "## load full network and set dynamic vars\n",
    "net_full = IO.from_SBML_file('../model/model.xml', id='net_full')\n",
    "dyn_vars =  ['paurb', 'pmelt_bub1','pmelt_bub1_pp2a', 'pmelt', 'rvsf', 'rvsf_pp1']\n",
    "nonvars = list(set(net_full.dynamicVars.keys()) - set(dyn_vars))\n",
    "for key in nonvars:\n",
    "    net_full.set_var_constant(key, is_constant=True)\n",
    "    net_full.set_var_optimizable(key, is_optimizable=False)\n",
    "for var in ['pp1_tot', 'bub1_tot', 'pp2a_tot', 'kln1_tot', 'aurb_tot']:\n",
    "    net_full.set_var_optimizable(var, False)"
   ]
  },
  {
   "cell_type": "code",
   "execution_count": 571,
   "metadata": {
    "code_folding": []
   },
   "outputs": [],
   "source": [
    "## generate all possible models\n",
    "## ids are strings of 1/0 indicating presence/absence of reactions\n",
    "phospho_pars = [\n",
    "    ['kdp_rvsf_pp1', 'kdp_rvsf_pp2a'],\n",
    "     ['kp_aurb_bub1','kp_aurb_aurb'],\n",
    "     ['kdp_aurb_pp1','kdp_aurb_pp2a']]\n",
    "nets = {}\n",
    "#alf = ['01','10','11']\n",
    "alf = ['11']\n",
    "net_iterator = it.product(alf,repeat=3)\n",
    "for n_i in net_iterator:\n",
    "    id = ''.join(n_i)\n",
    "    net_it = net_full.copy(new_id='net_'+id)\n",
    "    for i in range(len(n_i)):\n",
    "        pars = phospho_pars[i]\n",
    "        for j in range(len(n_i[i])):\n",
    "            val = float(n_i[i][j])\n",
    "            net_it.set_var_ic(pars[j], val)\n",
    "            net_it.set_var_optimizable(pars[j], bool(val))\n",
    "    nets[id] = net_it"
   ]
  },
  {
   "cell_type": "code",
   "execution_count": 590,
   "metadata": {},
   "outputs": [],
   "source": [
    "wirings = dict()\n",
    "for id, net in nets.items():\n",
    "    wiring = cnd.wiring(net, id)\n",
    "    for m,m_data in cnd.data.items():\n",
    "        for i,data in m_data.items():\n",
    "            wiring.add_condition(cnd.mutants[m], cnd.interventions[i], data, cnd.sf[m][i])\n",
    "    wirings[id] = wiring\n",
    "    "
   ]
  },
  {
   "cell_type": "code",
   "execution_count": 593,
   "metadata": {},
   "outputs": [],
   "source": [
    "w = wirings['111111']\n",
    "w.add_model(['dkard_ic'], 'test_ic')\n",
    "m = w.models['test_ic']"
   ]
  },
  {
   "cell_type": "code",
   "execution_count": 594,
   "metadata": {},
   "outputs": [
    {
     "data": {
      "text/plain": [
       "KeyedList([('kb_rvsf_pp1', 1), ('kd_rvsf_pp1', 1), ('kb_pmelt_bub1', 1), ('kd_pmelt_bub1', 1), ('kp_melt', 1), ('kdp_melt', 1), ('kp_rvsf', 1), ('kdp_rvsf_pp2a', 1), ('kdp_rvsf_pp1', 1), ('kp_aurb_bub1', 1), ('kp_aurb_aurb', 1), ('kdp_aurb_pp1', 1), ('kdp_aurb_pp2a', 1)])"
      ]
     },
     "execution_count": 594,
     "metadata": {},
     "output_type": "execute_result"
    }
   ],
   "source": [
    "params = KeyedList()\n",
    "for p,val in w.nets['dkard_ic'].optimizableVars.items():    \n",
    "    params.setByKey(p, 1)\n",
    "    res = Residuals.PriorInLog(p+'_prior', p, np.log(val.initialValue), np.log(np.sqrt(100)))\n",
    "    m.AddResidual(res)\n",
    "params"
   ]
  },
  {
   "cell_type": "code",
   "execution_count": 595,
   "metadata": {},
   "outputs": [
    {
     "name": "stdout",
     "output_type": "stream",
     "text": [
      "Iteration number 0\n",
      "Current cost 16.0\n",
      "Move 1 gives cost of 16.0\n",
      "Move 2 gives cost of  16.0\n",
      " Optimization terminated successfully.\n",
      " Current function value: 16.000000\n",
      " Iterations: 1\n",
      " Function evaluations: 4\n",
      " Gradient evaluations: 2\n"
     ]
    }
   ],
   "source": [
    "params_ic_opt = Optimization.fmin_lm_log_params(m, params, maxiter=200, disp=True)"
   ]
  },
  {
   "cell_type": "code",
   "execution_count": 580,
   "metadata": {},
   "outputs": [
    {
     "data": {
      "text/plain": [
       "KeyedList([('dkard_ic', <SloppyCell.ReactionNetworks.Network_mod.Network instance at 0x11ab83dd0>)])"
      ]
     },
     "execution_count": 580,
     "metadata": {},
     "output_type": "execute_result"
    }
   ],
   "source": [
    "e = m.exptColl['dkard_ic']\n",
    "m.calcColl"
   ]
  },
  {
   "cell_type": "code",
   "execution_count": 587,
   "metadata": {},
   "outputs": [],
   "source": [
    "net_wt = w.nets['wt_ic'].copy('wt')\n",
    "net_dkard = w.nets['dkard_ic'].copy('dkard')\n",
    "traj_wt = Dynamics.integrate(net_wt, [0,1200], params = params_ic_opt)\n",
    "traj_dkard = Dynamics.integrate(net_dkard, [0,1200], params = params_ic_opt)"
   ]
  },
  {
   "cell_type": "code",
   "execution_count": 588,
   "metadata": {},
   "outputs": [
    {
     "data": {
      "text/plain": [
       "[<matplotlib.lines.Line2D at 0x11e091710>]"
      ]
     },
     "execution_count": 588,
     "metadata": {},
     "output_type": "execute_result"
    },
    {
     "data": {
      "image/png": "[encoded data removed]",
      "text/plain": [
       "<matplotlib.figure.Figure at 0x11dd2be90>"
      ]
     },
     "metadata": {},
     "output_type": "display_data"
    }
   ],
   "source": [
    "fig, (ax1, ax2) = plt.subplots(1,2,figsize=(10,5),sharey=True)\n",
    "ax1.plot(traj_wt.timepoints, traj_wt.get_var_traj('prvsf'))\n",
    "ax1.plot(traj_wt.timepoints, traj_wt.get_var_traj('pmelt_tot'))\n",
    "ax2.plot(traj_dkard.timepoints, traj_dkard.get_var_traj('prvsf'))\n",
    "ax2.plot(traj_dkard.timepoints, traj_dkard.get_var_traj('pmelt_tot'))"
   ]
  },
  {
   "cell_type": "code",
   "execution_count": 589,
   "metadata": {},
   "outputs": [
    {
     "data": {
      "text/plain": [
       "<module 'conditions' from 'conditions.py'>"
      ]
     },
     "execution_count": 589,
     "metadata": {},
     "output_type": "execute_result"
    }
   ],
   "source": [
    "reload(cnd)"
   ]
  },
  {
   "cell_type": "code",
   "execution_count": 501,
   "metadata": {},
   "outputs": [
    {
     "data": {
      "text/plain": [
       "['kb_rvsf_pp1',\n",
       " 'kd_rvsf_pp1',\n",
       " 'kb_pmelt_bub1',\n",
       " 'kd_pmelt_bub1',\n",
       " 'kp_melt',\n",
       " 'kdp_melt',\n",
       " 'kp_rvsf',\n",
       " 'kdp_rvsf_pp2a',\n",
       " 'kdp_rvsf_pp1',\n",
       " 'kp_aurb_bub1',\n",
       " 'kp_aurb_aurb',\n",
       " 'kdp_aurb_pp1',\n",
       " 'kdp_aurb_pp2a']"
      ]
     },
     "execution_count": 501,
     "metadata": {},
     "output_type": "execute_result"
    }
   ],
   "source": [
    "net_dkard.optimizableVars.keys()"
   ]
  },
  {
   "cell_type": "code",
   "execution_count": null,
   "metadata": {
    "collapsed": true
   },
   "outputs": [],
   "source": []
  }
 ],
 "metadata": {
  "kernelspec": {
   "display_name": "Python 2",
   "language": "python",
   "name": "python2"
  },
  "language_info": {
   "codemirror_mode": {
    "name": "ipython",
    "version": 2
   },
   "file_extension": ".py",
   "mimetype": "text/x-python",
   "name": "python",
   "nbconvert_exporter": "python",
   "pygments_lexer": "ipython2",
   "version": "2.7.13"
  }
 },
 "nbformat": 4,
 "nbformat_minor": 2
}
