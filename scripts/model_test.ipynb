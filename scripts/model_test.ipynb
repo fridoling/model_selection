{
 "cells": [
  {
   "cell_type": "code",
   "execution_count": 112,
   "metadata": {},
   "outputs": [
    {
     "name": "stdout",
     "output_type": "stream",
     "text": [
      "Populating the interactive namespace from numpy and matplotlib\n"
     ]
    }
   ],
   "source": [
    "from SloppyCell.ReactionNetworks import *\n",
    "import numpy as np\n",
    "import matplotlib.pyplot as plt\n",
    "import itertools as it\n",
    "%pylab inline"
   ]
  },
  {
   "cell_type": "code",
   "execution_count": 3,
   "metadata": {
    "collapsed": true
   },
   "outputs": [],
   "source": [
    "model = IO.from_SBML_file('../model/model.xml', id='full_model')"
   ]
  },
  {
   "cell_type": "code",
   "execution_count": 126,
   "metadata": {},
   "outputs": [],
   "source": [
    "phospho_pars = [\n",
    "    ['kdp_rvsf_pp1', 'kdp_rvsf_pp2a'],\n",
    "     ['kp_aurb_bub1','kp_aurb_aurb'],\n",
    "     ['kdp_aurb_pp1','kdp_aurb_pp2a']]\n",
    "models = {}\n",
    "alf = ['01','10','11']\n",
    "model_iterator = it.product(alf,repeat=3)\n",
    "for m_i in model_iterator:\n",
    "    id = ''.join(m_i)\n",
    "    model_it = model.copy(new_id='model_'+id)\n",
    "    for i in range(len(m_i)):\n",
    "        pars = phospho_pars[i]\n",
    "        for j in range(len(m_i[i])):\n",
    "            val = m_i[i][j]\n",
    "            model_it.set_var_ic(pars[j], float(val))\n",
    "            model_it.set_var_optimizable(pars[j], bool(val))\n",
    "    models[id] = model_it"
   ]
  }
 ],
 "metadata": {
  "kernelspec": {
   "display_name": "Python 2",
   "language": "python",
   "name": "python2"
  },
  "language_info": {
   "codemirror_mode": {
    "name": "ipython",
    "version": 2
   },
   "file_extension": ".py",
   "mimetype": "text/x-python",
   "name": "python",
   "nbconvert_exporter": "python",
   "pygments_lexer": "ipython2",
   "version": "2.7.13"
  }
 },
 "nbformat": 4,
 "nbformat_minor": 2
}
