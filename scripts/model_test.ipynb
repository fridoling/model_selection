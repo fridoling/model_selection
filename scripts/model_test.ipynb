{
 "cells": [
  {
   "cell_type": "code",
   "execution_count": 1,
   "metadata": {},
   "outputs": [
    {
     "name": "stdout",
     "output_type": "stream",
     "text": [
      "Populating the interactive namespace from numpy and matplotlib\n"
     ]
    }
   ],
   "source": [
    "from SloppyCell.ReactionNetworks import *\n",
    "import numpy as np\n",
    "import matplotlib.pyplot as plt\n",
    "import itertools as it\n",
    "%pylab inline"
   ]
  },
  {
   "cell_type": "code",
   "execution_count": 2,
   "metadata": {
    "code_folding": [
     0
    ],
    "collapsed": true
   },
   "outputs": [],
   "source": [
    "## load full model and set dynamic vars\n",
    "model = IO.from_SBML_file('../model/model.xml', id='full_model')\n",
    "dyn_vars =  ['paurb', 'pmelt_bub1','pmelt_bub1_pp2a', 'pmelt', 'rvsf', 'rvsf_pp1']\n",
    "nonvars = list(set(model.dynamicVars.keys()) - set(dyn_vars))\n",
    "for key in nonvars:\n",
    "    model.set_var_constant(key, is_constant=True)\n",
    "    model.set_var_optimizable(key, is_optimizable=False)\n",
    "for var in ['pp1_tot', 'bub1_tot', 'pp2a_tot', 'kln1_tot', 'aurb_tot']:\n",
    "    model.set_var_optimizable(var, False)"
   ]
  },
  {
   "cell_type": "code",
   "execution_count": 32,
   "metadata": {
    "code_folding": [
     0
    ],
    "collapsed": true
   },
   "outputs": [],
   "source": [
    "## generate all possible models\n",
    "## ids are strings of 1/0 indicating presence/absence of reactions\n",
    "phospho_pars = [\n",
    "    ['kdp_rvsf_pp1', 'kdp_rvsf_pp2a'],\n",
    "     ['kp_aurb_bub1','kp_aurb_aurb'],\n",
    "     ['kdp_aurb_pp1','kdp_aurb_pp2a']]\n",
    "models = {}\n",
    "alf = ['01','10','11']\n",
    "model_iterator = it.product(alf,repeat=3)\n",
    "for m_i in model_iterator:\n",
    "    id = ''.join(m_i)\n",
    "    model_it = model.copy(new_id='model_'+id)\n",
    "    for i in range(len(m_i)):\n",
    "        pars = phospho_pars[i]\n",
    "        for j in range(len(m_i[i])):\n",
    "            val = float(m_i[i][j])\n",
    "            model_it.set_var_ic(pars[j], val)\n",
    "            model_it.set_var_optimizable(pars[j], bool(val))\n",
    "    models[id] = model_it"
   ]
  },
  {
   "cell_type": "code",
   "execution_count": 25,
   "metadata": {
    "collapsed": true
   },
   "outputs": [],
   "source": [
    "model_ic = model.copy(new_id='full_ic')\n",
    "model_id = 'full_ic'\n",
    "expt_ic = Experiment('ic')\n",
    "data_ic = {model_id:{\n",
    "    'prvsf': {100: (0.1, 0.1),\n",
    "            1000: (0.1, 0.1),},              \n",
    "    'pmelt_tot' : {100: (0.1, 0.1),\n",
    "            1100: (0.1, 0.1),},                              \n",
    "                             }\n",
    "                }\n",
    "expt_ic.set_data(data_ic)\n",
    "expt_ic.set_fixed_sf({'prvsf': 1, 'pmelt_tot': 1})"
   ]
  },
  {
   "cell_type": "code",
   "execution_count": 26,
   "metadata": {
    "collapsed": true
   },
   "outputs": [],
   "source": [
    "model_mps1 = model.copy(new_id='full_mps1')\n",
    "model_mps1.set_var_constant('mps1', is_constant=False)\n",
    "model_mps1.add_event(id='mps1_inhibition', trigger='gt(time, 1000)', event_assignments={'mps1': 0})\n",
    "model_id = 'full_mps1'\n",
    "expt_mps1 = Experiment('mps1_inhibition')\n",
    "data_mps1 = {model_id:{\n",
    "    'prvsf': {100: (1, 0.1),\n",
    "            1000: (1, 0.1),},              \n",
    "    'pmelt_tot' : {100: (1, 0.1),\n",
    "            1100: (0, 0.1),},                              \n",
    "                             }\n",
    "                }\n",
    "expt_mps1.set_data(data_mps1)"
   ]
  },
  {
   "cell_type": "code",
   "execution_count": 27,
   "metadata": {
    "collapsed": true
   },
   "outputs": [],
   "source": [
    "model_aurb = model.copy(new_id='full_aurb')\n",
    "model_aurb.set_var_constant('paurb', is_constant=False)\n",
    "model_aurb.set_var_constant('aurb_tot', is_constant=False)\n",
    "model_aurb.add_event(id='aurb_inhibition', trigger='gt(time, 1000)', event_assignments={'paurb': 0, 'aurb_tot': 0})\n",
    "model_id = 'full_aurb'\n",
    "expt_aurb = Experiment('aurb_inhibition')\n",
    "data_aurb = {model_id:{            \n",
    "    'pmelt_tot' : {100: (1, 0.1),\n",
    "            1100: (0, 0.01),},                              \n",
    "                             }\n",
    "                }\n",
    "expt_aurb.set_data(data_aurb)"
   ]
  },
  {
   "cell_type": "code",
   "execution_count": 28,
   "metadata": {
    "collapsed": true
   },
   "outputs": [],
   "source": [
    "m_ic = Model([expt_ic],[model_ic])\n",
    "params = KeyedList()\n",
    "for p,val in model.optimizableVars.items():    \n",
    "    params.setByKey(p, val.initialValue)\n",
    "    res = Residuals.PriorInLog(p+'_prior', p, log(val.initialValue), log(sqrt(100)))    \n",
    "    m_ic.AddResidual(res)"
   ]
  },
  {
   "cell_type": "code",
   "execution_count": 29,
   "metadata": {},
   "outputs": [],
   "source": [
    "params_ic_opt = Optimization.fmin_lm_log_params(m_ic, params, maxiter=200, disp=False)"
   ]
  },
  {
   "cell_type": "code",
   "execution_count": 32,
   "metadata": {
    "collapsed": true
   },
   "outputs": [],
   "source": [
    "model_ic_c = model.copy(new_id='model_ic_c')\n",
    "model_ic_c.add_constraint(id='rvsf03', trigger='lt(time, 100.0) or lt(prvsf, 0.3)')\n",
    "model_ic_c.add_constraint(id='melt03', trigger='lt(time, 100.0) or lt(pmelt_tot, 0.3)')\n",
    "model_id = 'model_ic_c'\n",
    "expt_ic_c = Experiment('fit_ic_c')\n",
    "data_ic_c = {model_id:{\n",
    "    'prvsf': {100: (0.1, 1000),\n",
    "            1100: (0.1, 1000),},              \n",
    "    'pmelt_tot' : {100: (0.1, 1000),\n",
    "            1100: (0.1, 1000),},                              \n",
    "                             }\n",
    "                }\n",
    "expt_ic_c.set_data(data_ic_c)\n",
    "expt_ic_c.set_fixed_sf({'prvsf': 1, 'pmelt_tot': 1})"
   ]
  },
  {
   "cell_type": "code",
   "execution_count": 38,
   "metadata": {
    "collapsed": true
   },
   "outputs": [],
   "source": [
    "m = Model([expt_ic_c, expt_aurb, expt_mps1],[model_ic_c, model_aurb, model_mps1])\n",
    "params = KeyedList()\n",
    "for p,val in model.optimizableVars.items():    \n",
    "    params.setByKey(p, val.initialValue)\n",
    "    res = Residuals.PriorInLog(p+'_prior', p, log(val.initialValue), log(sqrt(100)))    \n",
    "    m.AddResidual(res)"
   ]
  },
  {
   "cell_type": "code",
   "execution_count": 39,
   "metadata": {},
   "outputs": [
    {
     "name": "stderr",
     "output_type": "stream",
     "text": [
      "WARNING:Optimization:Exception in cost evaluation. Cost set to inf.\n"
     ]
    },
    {
     "name": "stdout",
     "output_type": "stream",
     "text": [
      "Iteration number 0\n",
      "Current cost 100.78906714\n",
      "Move 1 gives cost of 100.46860967\n",
      "Move 2 gives cost of  inf\n"
     ]
    },
    {
     "name": "stderr",
     "output_type": "stream",
     "text": [
      "WARNING:Optimization:Exception in cost evaluation. Cost set to inf.\n"
     ]
    },
    {
     "name": "stdout",
     "output_type": "stream",
     "text": [
      "Iteration number 1\n",
      "Current cost 100.46860967\n",
      "Move 1 gives cost of 100.227918519\n",
      "Move 2 gives cost of  inf\n"
     ]
    },
    {
     "name": "stderr",
     "output_type": "stream",
     "text": [
      "WARNING:Optimization:Exception in cost evaluation. Cost set to inf.\n",
      "WARNING:Optimization:Exception in cost evaluation. Cost set to inf.\n"
     ]
    },
    {
     "name": "stdout",
     "output_type": "stream",
     "text": [
      "Iteration number 2\n",
      "Current cost 100.227918519\n",
      "Move 1 gives cost of inf\n",
      "Move 2 gives cost of  inf\n"
     ]
    },
    {
     "name": "stderr",
     "output_type": "stream",
     "text": [
      "WARNING:Optimization:Exception in cost evaluation. Cost set to inf.\n"
     ]
    },
    {
     "name": "stdout",
     "output_type": "stream",
     "text": [
      "Iteration number 3\n",
      "Current cost 100.20717595\n",
      "Move 1 gives cost of 100.187042677\n",
      "Move 2 gives cost of  inf\n"
     ]
    },
    {
     "name": "stderr",
     "output_type": "stream",
     "text": [
      "WARNING:Optimization:Exception in cost evaluation. Cost set to inf.\n"
     ]
    },
    {
     "name": "stdout",
     "output_type": "stream",
     "text": [
      "Iteration number 4\n",
      "Current cost 100.187042677\n",
      "Move 1 gives cost of 100.167495103\n",
      "Move 2 gives cost of  inf\n"
     ]
    },
    {
     "name": "stderr",
     "output_type": "stream",
     "text": [
      "WARNING:Optimization:Exception in cost evaluation. Cost set to inf.\n"
     ]
    },
    {
     "name": "stdout",
     "output_type": "stream",
     "text": [
      "Iteration number 5\n",
      "Current cost 100.167495103\n",
      "Move 1 gives cost of 100.148509851\n",
      "Move 2 gives cost of  inf\n"
     ]
    },
    {
     "name": "stderr",
     "output_type": "stream",
     "text": [
      "WARNING:Optimization:Exception in cost evaluation. Cost set to inf.\n",
      "WARNING:Optimization:Exception in cost evaluation. Cost set to inf.\n"
     ]
    },
    {
     "name": "stdout",
     "output_type": "stream",
     "text": [
      "Iteration number 6\n",
      "Current cost 100.148509851\n",
      "Move 1 gives cost of inf\n",
      "Move 2 gives cost of  inf\n"
     ]
    },
    {
     "name": "stderr",
     "output_type": "stream",
     "text": [
      "WARNING:Optimization:Exception in cost evaluation. Cost set to inf.\n",
      "WARNING:Optimization:Exception in cost evaluation. Cost set to inf.\n"
     ]
    },
    {
     "name": "stdout",
     "output_type": "stream",
     "text": [
      "Iteration number 7\n",
      "Current cost 100.148322222\n",
      "Move 1 gives cost of 100.148134646\n",
      "Move 2 gives cost of  inf\n"
     ]
    },
    {
     "name": "stderr",
     "output_type": "stream",
     "text": [
      "WARNING:Optimization:Exception in cost evaluation. Cost set to inf.\n"
     ]
    },
    {
     "name": "stdout",
     "output_type": "stream",
     "text": [
      "Iteration number 8\n",
      "Current cost 100.148134646\n",
      "Move 1 gives cost of 100.147947125\n",
      "Move 2 gives cost of  inf\n"
     ]
    },
    {
     "name": "stderr",
     "output_type": "stream",
     "text": [
      "WARNING:Optimization:Exception in cost evaluation. Cost set to inf.\n",
      "WARNING:Optimization:Exception in cost evaluation. Cost set to inf.\n"
     ]
    },
    {
     "name": "stdout",
     "output_type": "stream",
     "text": [
      "Iteration number 9\n",
      "Current cost 100.147947125\n",
      "Move 1 gives cost of inf\n",
      "Move 2 gives cost of  inf\n"
     ]
    },
    {
     "name": "stderr",
     "output_type": "stream",
     "text": [
      "WARNING:Optimization:Exception in cost evaluation. Cost set to inf.\n"
     ]
    },
    {
     "name": "stdout",
     "output_type": "stream",
     "text": [
      "Iteration number 10\n",
      "Current cost 100.147928375\n",
      "Move 1 gives cost of 100.147909626\n",
      "Move 2 gives cost of  inf\n"
     ]
    },
    {
     "name": "stderr",
     "output_type": "stream",
     "text": [
      "WARNING:Optimization:Exception in cost evaluation. Cost set to inf.\n"
     ]
    },
    {
     "name": "stdout",
     "output_type": "stream",
     "text": [
      "Iteration number 11\n",
      "Current cost 100.147909626\n",
      "Move 1 gives cost of 100.147890877\n",
      "Move 2 gives cost of  inf\n"
     ]
    },
    {
     "name": "stderr",
     "output_type": "stream",
     "text": [
      "WARNING:Optimization:Exception in cost evaluation. Cost set to inf.\n"
     ]
    },
    {
     "name": "stdout",
     "output_type": "stream",
     "text": [
      "Iteration number 12\n",
      "Current cost 100.147890877\n",
      "Move 1 gives cost of 100.147872129\n",
      "Move 2 gives cost of  inf\n"
     ]
    },
    {
     "name": "stderr",
     "output_type": "stream",
     "text": [
      "WARNING:Optimization:Exception in cost evaluation. Cost set to inf.\n"
     ]
    },
    {
     "name": "stdout",
     "output_type": "stream",
     "text": [
      "Iteration number 13\n",
      "Current cost 100.147872129\n",
      "Move 1 gives cost of 100.147853382\n",
      "Move 2 gives cost of  inf\n"
     ]
    },
    {
     "name": "stderr",
     "output_type": "stream",
     "text": [
      "WARNING:Optimization:Exception in cost evaluation. Cost set to inf.\n"
     ]
    },
    {
     "name": "stdout",
     "output_type": "stream",
     "text": [
      "Iteration number 14\n",
      "Current cost 100.147853382\n",
      "Move 1 gives cost of 100.147834635\n",
      "Move 2 gives cost of  inf\n"
     ]
    },
    {
     "name": "stderr",
     "output_type": "stream",
     "text": [
      "WARNING:Optimization:Exception in cost evaluation. Cost set to inf.\n"
     ]
    },
    {
     "name": "stdout",
     "output_type": "stream",
     "text": [
      "Iteration number 15\n",
      "Current cost 100.147834635\n",
      "Move 1 gives cost of 100.147815888\n",
      "Move 2 gives cost of  inf\n"
     ]
    },
    {
     "name": "stderr",
     "output_type": "stream",
     "text": [
      "WARNING:Optimization:Exception in cost evaluation. Cost set to inf.\n",
      "WARNING:Optimization:Exception in cost evaluation. Cost set to inf.\n"
     ]
    },
    {
     "name": "stdout",
     "output_type": "stream",
     "text": [
      "Iteration number 16\n",
      "Current cost 100.147815888\n",
      "Move 1 gives cost of inf\n",
      "Move 2 gives cost of  inf\n"
     ]
    },
    {
     "name": "stderr",
     "output_type": "stream",
     "text": [
      "WARNING:Optimization:Exception in cost evaluation. Cost set to inf.\n"
     ]
    },
    {
     "name": "stdout",
     "output_type": "stream",
     "text": [
      "Iteration number 17\n",
      "Current cost 100.147814013\n",
      "Move 1 gives cost of 100.147812139\n",
      "Move 2 gives cost of  inf\n"
     ]
    },
    {
     "name": "stderr",
     "output_type": "stream",
     "text": [
      "WARNING:Optimization:Exception in cost evaluation. Cost set to inf.\n"
     ]
    },
    {
     "name": "stdout",
     "output_type": "stream",
     "text": [
      "Iteration number 18\n",
      "Current cost 100.147812139\n",
      "Move 1 gives cost of 100.147810264\n",
      "Move 2 gives cost of  inf\n"
     ]
    },
    {
     "name": "stderr",
     "output_type": "stream",
     "text": [
      "WARNING:Optimization:Exception in cost evaluation. Cost set to inf.\n"
     ]
    },
    {
     "name": "stdout",
     "output_type": "stream",
     "text": [
      "Iteration number 19\n",
      "Current cost 100.147810264\n",
      "Move 1 gives cost of 100.14780839\n",
      "Move 2 gives cost of  inf\n"
     ]
    },
    {
     "name": "stderr",
     "output_type": "stream",
     "text": [
      "WARNING:Optimization:Exception in cost evaluation. Cost set to inf.\n"
     ]
    },
    {
     "name": "stdout",
     "output_type": "stream",
     "text": [
      "Iteration number 20\n",
      "Current cost 100.14780839\n",
      "Move 1 gives cost of 100.147806515\n",
      "Move 2 gives cost of  inf\n"
     ]
    },
    {
     "name": "stderr",
     "output_type": "stream",
     "text": [
      "WARNING:Optimization:Exception in cost evaluation. Cost set to inf.\n"
     ]
    },
    {
     "name": "stdout",
     "output_type": "stream",
     "text": [
      "Iteration number 21\n",
      "Current cost 100.147806515\n",
      "Move 1 gives cost of 100.14780464\n",
      "Move 2 gives cost of  inf\n"
     ]
    },
    {
     "name": "stderr",
     "output_type": "stream",
     "text": [
      "WARNING:Optimization:Exception in cost evaluation. Cost set to inf.\n"
     ]
    },
    {
     "name": "stdout",
     "output_type": "stream",
     "text": [
      "Iteration number 22\n",
      "Current cost 100.14780464\n",
      "Move 1 gives cost of 100.147802766\n",
      "Move 2 gives cost of  inf\n"
     ]
    },
    {
     "name": "stderr",
     "output_type": "stream",
     "text": [
      "WARNING:Optimization:Exception in cost evaluation. Cost set to inf.\n"
     ]
    },
    {
     "name": "stdout",
     "output_type": "stream",
     "text": [
      "Iteration number 23\n",
      "Current cost 100.147802766\n",
      "Move 1 gives cost of 100.147800891\n",
      "Move 2 gives cost of  inf\n"
     ]
    },
    {
     "name": "stderr",
     "output_type": "stream",
     "text": [
      "WARNING:Optimization:Exception in cost evaluation. Cost set to inf.\n"
     ]
    },
    {
     "name": "stdout",
     "output_type": "stream",
     "text": [
      "Iteration number 24\n",
      "Current cost 100.147800891\n",
      "Move 1 gives cost of 100.147799017\n",
      "Move 2 gives cost of  inf\n"
     ]
    },
    {
     "name": "stderr",
     "output_type": "stream",
     "text": [
      "WARNING:Optimization:Exception in cost evaluation. Cost set to inf.\n",
      "WARNING:Optimization:Exception in cost evaluation. Cost set to inf.\n"
     ]
    },
    {
     "name": "stdout",
     "output_type": "stream",
     "text": [
      "Iteration number 25\n",
      "Current cost 100.147799017\n",
      "Move 1 gives cost of inf\n",
      "Move 2 gives cost of  inf\n"
     ]
    },
    {
     "name": "stderr",
     "output_type": "stream",
     "text": [
      "WARNING:Optimization:Exception in cost evaluation. Cost set to inf.\n"
     ]
    },
    {
     "name": "stdout",
     "output_type": "stream",
     "text": [
      "Iteration number 26\n",
      "Current cost 100.147798829\n",
      "Move 1 gives cost of 100.147798642\n",
      "Move 2 gives cost of  inf\n"
     ]
    },
    {
     "name": "stderr",
     "output_type": "stream",
     "text": [
      "WARNING:Optimization:Exception in cost evaluation. Cost set to inf.\n"
     ]
    },
    {
     "name": "stdout",
     "output_type": "stream",
     "text": [
      "Iteration number 27\n",
      "Current cost 100.147798642\n",
      "Move 1 gives cost of 100.147798454\n",
      "Move 2 gives cost of  inf\n"
     ]
    },
    {
     "name": "stderr",
     "output_type": "stream",
     "text": [
      "WARNING:Optimization:Exception in cost evaluation. Cost set to inf.\n"
     ]
    },
    {
     "name": "stdout",
     "output_type": "stream",
     "text": [
      "Iteration number 28\n",
      "Current cost 100.147798454\n",
      "Move 1 gives cost of 100.147798267\n",
      "Move 2 gives cost of  inf\n"
     ]
    },
    {
     "name": "stderr",
     "output_type": "stream",
     "text": [
      "WARNING:Optimization:Exception in cost evaluation. Cost set to inf.\n"
     ]
    },
    {
     "name": "stdout",
     "output_type": "stream",
     "text": [
      "Iteration number 29\n",
      "Current cost 100.147798267\n",
      "Move 1 gives cost of 100.147798079\n",
      "Move 2 gives cost of  inf\n"
     ]
    },
    {
     "name": "stderr",
     "output_type": "stream",
     "text": [
      "WARNING:Optimization:Exception in cost evaluation. Cost set to inf.\n"
     ]
    },
    {
     "name": "stdout",
     "output_type": "stream",
     "text": [
      "Iteration number 30\n",
      "Current cost 100.147798079\n",
      "Move 1 gives cost of 100.147797892\n",
      "Move 2 gives cost of  inf\n"
     ]
    },
    {
     "name": "stderr",
     "output_type": "stream",
     "text": [
      "WARNING:Optimization:Exception in cost evaluation. Cost set to inf.\n"
     ]
    },
    {
     "name": "stdout",
     "output_type": "stream",
     "text": [
      "Iteration number 31\n",
      "Current cost 100.147797892\n",
      "Move 1 gives cost of 100.147797704\n",
      "Move 2 gives cost of  inf\n"
     ]
    },
    {
     "name": "stderr",
     "output_type": "stream",
     "text": [
      "WARNING:Optimization:Exception in cost evaluation. Cost set to inf.\n"
     ]
    },
    {
     "name": "stdout",
     "output_type": "stream",
     "text": [
      "Iteration number 32\n",
      "Current cost 100.147797704\n",
      "Move 1 gives cost of 100.147797517\n",
      "Move 2 gives cost of  inf\n"
     ]
    },
    {
     "name": "stderr",
     "output_type": "stream",
     "text": [
      "WARNING:Optimization:Exception in cost evaluation. Cost set to inf.\n",
      "WARNING:Optimization:Exception in cost evaluation. Cost set to inf.\n"
     ]
    },
    {
     "name": "stdout",
     "output_type": "stream",
     "text": [
      "Iteration number 33\n",
      "Current cost 100.147797517\n",
      "Move 1 gives cost of inf\n",
      "Move 2 gives cost of  inf\n"
     ]
    },
    {
     "name": "stderr",
     "output_type": "stream",
     "text": [
      "WARNING:Optimization:Exception in cost evaluation. Cost set to inf.\n"
     ]
    },
    {
     "name": "stdout",
     "output_type": "stream",
     "text": [
      "Iteration number 34\n",
      "Current cost 100.147797498\n",
      "Move 1 gives cost of 100.14779748\n",
      "Move 2 gives cost of  inf\n"
     ]
    },
    {
     "name": "stderr",
     "output_type": "stream",
     "text": [
      "WARNING:Optimization:Exception in cost evaluation. Cost set to inf.\n"
     ]
    },
    {
     "name": "stdout",
     "output_type": "stream",
     "text": [
      "Iteration number 35\n",
      "Current cost 100.14779748\n",
      "Move 1 gives cost of 100.147797461\n",
      "Move 2 gives cost of  inf\n"
     ]
    },
    {
     "name": "stderr",
     "output_type": "stream",
     "text": [
      "WARNING:Optimization:Exception in cost evaluation. Cost set to inf.\n"
     ]
    },
    {
     "name": "stdout",
     "output_type": "stream",
     "text": [
      "Iteration number 36\n",
      "Current cost 100.147797461\n",
      "Move 1 gives cost of 100.147797442\n",
      "Move 2 gives cost of  inf\n"
     ]
    },
    {
     "name": "stderr",
     "output_type": "stream",
     "text": [
      "WARNING:Optimization:Exception in cost evaluation. Cost set to inf.\n",
      "WARNING:Optimization:Exception in cost evaluation. Cost set to inf.\n"
     ]
    },
    {
     "name": "stdout",
     "output_type": "stream",
     "text": [
      "Iteration number 37\n",
      "Current cost 100.147797442\n",
      "Move 1 gives cost of inf\n",
      "Move 2 gives cost of  inf\n"
     ]
    },
    {
     "name": "stderr",
     "output_type": "stream",
     "text": [
      "WARNING:Optimization:Exception in cost evaluation. Cost set to inf.\n"
     ]
    },
    {
     "name": "stdout",
     "output_type": "stream",
     "text": [
      "Iteration number 38\n",
      "Current cost 100.14779744\n",
      "Move 1 gives cost of 100.147797438\n",
      "Move 2 gives cost of  inf\n"
     ]
    },
    {
     "name": "stderr",
     "output_type": "stream",
     "text": [
      "WARNING:Optimization:Exception in cost evaluation. Cost set to inf.\n"
     ]
    },
    {
     "name": "stdout",
     "output_type": "stream",
     "text": [
      "Iteration number 39\n",
      "Current cost 100.147797438\n",
      "Move 1 gives cost of 100.147797436\n",
      "Move 2 gives cost of  inf\n"
     ]
    },
    {
     "name": "stderr",
     "output_type": "stream",
     "text": [
      "WARNING:Optimization:Exception in cost evaluation. Cost set to inf.\n"
     ]
    },
    {
     "name": "stdout",
     "output_type": "stream",
     "text": [
      "Iteration number 40\n",
      "Current cost 100.147797436\n",
      "Move 1 gives cost of 100.147797435\n",
      "Move 2 gives cost of  inf\n"
     ]
    },
    {
     "name": "stderr",
     "output_type": "stream",
     "text": [
      "WARNING:Optimization:Exception in cost evaluation. Cost set to inf.\n",
      "WARNING:Optimization:Exception in cost evaluation. Cost set to inf.\n"
     ]
    },
    {
     "name": "stdout",
     "output_type": "stream",
     "text": [
      "Iteration number 41\n",
      "Current cost 100.147797435\n",
      "Move 1 gives cost of inf\n",
      "Move 2 gives cost of  inf\n"
     ]
    },
    {
     "name": "stderr",
     "output_type": "stream",
     "text": [
      "WARNING:Optimization:Exception in cost evaluation. Cost set to inf.\n"
     ]
    },
    {
     "name": "stdout",
     "output_type": "stream",
     "text": [
      "Iteration number 42\n",
      "Current cost 100.147797434\n",
      "Move 1 gives cost of 100.147797434\n",
      "Move 2 gives cost of  inf\n"
     ]
    },
    {
     "name": "stderr",
     "output_type": "stream",
     "text": [
      "WARNING:Optimization:Exception in cost evaluation. Cost set to inf.\n"
     ]
    },
    {
     "name": "stdout",
     "output_type": "stream",
     "text": [
      "Iteration number 43\n",
      "Current cost 100.147797434\n",
      "Move 1 gives cost of 100.147797434\n",
      "Move 2 gives cost of  inf\n"
     ]
    },
    {
     "name": "stderr",
     "output_type": "stream",
     "text": [
      "WARNING:Optimization:Exception in cost evaluation. Cost set to inf.\n"
     ]
    },
    {
     "name": "stdout",
     "output_type": "stream",
     "text": [
      "Iteration number 44\n",
      "Current cost 100.147797434\n",
      "Move 1 gives cost of 100.147797434\n",
      "Move 2 gives cost of  inf\n"
     ]
    },
    {
     "name": "stderr",
     "output_type": "stream",
     "text": [
      "WARNING:Optimization:Exception in cost evaluation. Cost set to inf.\n"
     ]
    },
    {
     "name": "stdout",
     "output_type": "stream",
     "text": [
      "Iteration number 45\n",
      "Current cost 100.147797434\n",
      "Move 1 gives cost of 100.147797434\n",
      "Move 2 gives cost of  inf\n"
     ]
    },
    {
     "name": "stderr",
     "output_type": "stream",
     "text": [
      "WARNING:Optimization:Exception in cost evaluation. Cost set to inf.\n"
     ]
    },
    {
     "name": "stdout",
     "output_type": "stream",
     "text": [
      "Iteration number 46\n",
      "Current cost 100.147797434\n",
      "Move 1 gives cost of 100.147797433\n",
      "Move 2 gives cost of  inf\n"
     ]
    },
    {
     "name": "stderr",
     "output_type": "stream",
     "text": [
      "WARNING:Optimization:Exception in cost evaluation. Cost set to inf.\n"
     ]
    },
    {
     "name": "stdout",
     "output_type": "stream",
     "text": [
      "Iteration number 47\n",
      "Current cost 100.147797433\n",
      "Move 1 gives cost of 100.147797433\n",
      "Move 2 gives cost of  inf\n"
     ]
    },
    {
     "name": "stderr",
     "output_type": "stream",
     "text": [
      "WARNING:Optimization:Exception in cost evaluation. Cost set to inf.\n",
      "WARNING:Optimization:Exception in cost evaluation. Cost set to inf.\n"
     ]
    },
    {
     "name": "stdout",
     "output_type": "stream",
     "text": [
      "Iteration number 48\n",
      "Current cost 100.147797433\n",
      "Move 1 gives cost of inf\n",
      "Move 2 gives cost of  inf\n"
     ]
    },
    {
     "name": "stderr",
     "output_type": "stream",
     "text": [
      "WARNING:Optimization:Exception in cost evaluation. Cost set to inf.\n",
      "WARNING:Optimization:Exception in cost evaluation. Cost set to inf.\n"
     ]
    },
    {
     "name": "stdout",
     "output_type": "stream",
     "text": [
      "Iteration number 49\n",
      "Current cost 100.147797433\n",
      "Move 1 gives cost of inf\n",
      "Move 2 gives cost of  inf\n"
     ]
    },
    {
     "name": "stderr",
     "output_type": "stream",
     "text": [
      "WARNING:Optimization:Exception in cost evaluation. Cost set to inf.\n"
     ]
    },
    {
     "name": "stdout",
     "output_type": "stream",
     "text": [
      "Iteration number 50\n",
      "Current cost 100.147797433\n",
      "Move 1 gives cost of 100.147797433\n",
      "Move 2 gives cost of  inf\n"
     ]
    },
    {
     "name": "stderr",
     "output_type": "stream",
     "text": [
      "WARNING:Optimization:Exception in cost evaluation. Cost set to inf.\n"
     ]
    },
    {
     "name": "stdout",
     "output_type": "stream",
     "text": [
      "Iteration number 51\n",
      "Current cost 100.147797433\n",
      "Move 1 gives cost of 100.147797433\n",
      "Move 2 gives cost of  inf\n"
     ]
    },
    {
     "name": "stderr",
     "output_type": "stream",
     "text": [
      "WARNING:Optimization:Exception in cost evaluation. Cost set to inf.\n"
     ]
    },
    {
     "name": "stdout",
     "output_type": "stream",
     "text": [
      "Iteration number 52\n",
      "Current cost 100.147797433\n",
      "Move 1 gives cost of 100.147797433\n",
      "Move 2 gives cost of  inf\n"
     ]
    },
    {
     "name": "stderr",
     "output_type": "stream",
     "text": [
      "WARNING:Optimization:Exception in cost evaluation. Cost set to inf.\n"
     ]
    },
    {
     "name": "stdout",
     "output_type": "stream",
     "text": [
      "Iteration number 53\n",
      "Current cost 100.147797433\n",
      "Move 1 gives cost of 100.147797433\n",
      "Move 2 gives cost of  inf\n"
     ]
    },
    {
     "name": "stderr",
     "output_type": "stream",
     "text": [
      "WARNING:Optimization:Exception in cost evaluation. Cost set to inf.\n"
     ]
    },
    {
     "name": "stdout",
     "output_type": "stream",
     "text": [
      "Iteration number 54\n",
      "Current cost 100.147797433\n",
      "Move 1 gives cost of 100.147797433\n",
      "Move 2 gives cost of  inf\n"
     ]
    },
    {
     "name": "stderr",
     "output_type": "stream",
     "text": [
      "WARNING:Optimization:Exception in cost evaluation. Cost set to inf.\n"
     ]
    },
    {
     "name": "stdout",
     "output_type": "stream",
     "text": [
      "Iteration number 55\n",
      "Current cost 100.147797433\n",
      "Move 1 gives cost of 100.147797433\n",
      "Move 2 gives cost of  inf\n"
     ]
    },
    {
     "name": "stderr",
     "output_type": "stream",
     "text": [
      "WARNING:Optimization:Exception in cost evaluation. Cost set to inf.\n"
     ]
    },
    {
     "name": "stdout",
     "output_type": "stream",
     "text": [
      "Iteration number 56\n",
      "Current cost 100.147797433\n",
      "Move 1 gives cost of 100.147797433\n",
      "Move 2 gives cost of  inf\n"
     ]
    },
    {
     "name": "stderr",
     "output_type": "stream",
     "text": [
      "WARNING:Optimization:Exception in cost evaluation. Cost set to inf.\n"
     ]
    },
    {
     "name": "stdout",
     "output_type": "stream",
     "text": [
      "Iteration number 57\n",
      "Current cost 100.147797433\n",
      "Move 1 gives cost of 100.147797433\n",
      "Move 2 gives cost of  inf\n"
     ]
    },
    {
     "name": "stderr",
     "output_type": "stream",
     "text": [
      "WARNING:Optimization:Exception in cost evaluation. Cost set to inf.\n",
      "WARNING:Optimization:Exception in cost evaluation. Cost set to inf.\n"
     ]
    },
    {
     "name": "stdout",
     "output_type": "stream",
     "text": [
      "Iteration number 58\n",
      "Current cost 100.147797433\n",
      "Move 1 gives cost of inf\n",
      "Move 2 gives cost of  inf\n"
     ]
    },
    {
     "name": "stderr",
     "output_type": "stream",
     "text": [
      "WARNING:Optimization:Exception in cost evaluation. Cost set to inf.\n"
     ]
    },
    {
     "name": "stdout",
     "output_type": "stream",
     "text": [
      "Iteration number 59\n",
      "Current cost 100.147797433\n",
      "Move 1 gives cost of 100.147797433\n",
      "Move 2 gives cost of  inf\n"
     ]
    },
    {
     "name": "stderr",
     "output_type": "stream",
     "text": [
      "WARNING:Optimization:Exception in cost evaluation. Cost set to inf.\n"
     ]
    },
    {
     "name": "stdout",
     "output_type": "stream",
     "text": [
      "Iteration number 60\n",
      "Current cost 100.147797433\n",
      "Move 1 gives cost of 100.147797433\n",
      "Move 2 gives cost of  inf\n"
     ]
    },
    {
     "name": "stderr",
     "output_type": "stream",
     "text": [
      "WARNING:Optimization:Exception in cost evaluation. Cost set to inf.\n"
     ]
    },
    {
     "name": "stdout",
     "output_type": "stream",
     "text": [
      "Iteration number 61\n",
      "Current cost 100.147797433\n",
      "Move 1 gives cost of 100.147797433\n",
      "Move 2 gives cost of  inf\n"
     ]
    },
    {
     "name": "stderr",
     "output_type": "stream",
     "text": [
      "WARNING:Optimization:Exception in cost evaluation. Cost set to inf.\n"
     ]
    },
    {
     "name": "stdout",
     "output_type": "stream",
     "text": [
      "Iteration number 62\n",
      "Current cost 100.147797433\n",
      "Move 1 gives cost of 100.147797433\n",
      "Move 2 gives cost of  inf\n"
     ]
    },
    {
     "name": "stderr",
     "output_type": "stream",
     "text": [
      "WARNING:Optimization:Exception in cost evaluation. Cost set to inf.\n"
     ]
    },
    {
     "name": "stdout",
     "output_type": "stream",
     "text": [
      "Iteration number 63\n",
      "Current cost 100.147797433\n",
      "Move 1 gives cost of 100.147797433\n",
      "Move 2 gives cost of  inf\n"
     ]
    },
    {
     "name": "stderr",
     "output_type": "stream",
     "text": [
      "WARNING:Optimization:Exception in cost evaluation. Cost set to inf.\n"
     ]
    },
    {
     "name": "stdout",
     "output_type": "stream",
     "text": [
      "Iteration number 64\n",
      "Current cost 100.147797433\n",
      "Move 1 gives cost of 100.147797433\n",
      "Move 2 gives cost of  inf\n"
     ]
    },
    {
     "name": "stderr",
     "output_type": "stream",
     "text": [
      "WARNING:Optimization:Exception in cost evaluation. Cost set to inf.\n"
     ]
    },
    {
     "name": "stdout",
     "output_type": "stream",
     "text": [
      "Iteration number 65\n",
      "Current cost 100.147797433\n",
      "Move 1 gives cost of 100.147797433\n",
      "Move 2 gives cost of  inf\n"
     ]
    },
    {
     "name": "stderr",
     "output_type": "stream",
     "text": [
      "WARNING:Optimization:Exception in cost evaluation. Cost set to inf.\n"
     ]
    },
    {
     "name": "stdout",
     "output_type": "stream",
     "text": [
      "Iteration number 66\n",
      "Current cost 100.147797433\n",
      "Move 1 gives cost of 100.147797433\n",
      "Move 2 gives cost of  inf\n"
     ]
    },
    {
     "name": "stderr",
     "output_type": "stream",
     "text": [
      "WARNING:Optimization:Exception in cost evaluation. Cost set to inf.\n",
      "WARNING:Optimization:Exception in cost evaluation. Cost set to inf.\n"
     ]
    },
    {
     "name": "stdout",
     "output_type": "stream",
     "text": [
      "Iteration number 67\n",
      "Current cost 100.147797433\n",
      "Move 1 gives cost of inf\n",
      "Move 2 gives cost of  inf\n"
     ]
    },
    {
     "name": "stderr",
     "output_type": "stream",
     "text": [
      "WARNING:Optimization:Exception in cost evaluation. Cost set to inf.\n",
      "WARNING:Optimization:Exception in cost evaluation. Cost set to inf.\n"
     ]
    },
    {
     "name": "stdout",
     "output_type": "stream",
     "text": [
      "Iteration number 68\n",
      "Current cost 100.147797433\n",
      "Move 1 gives cost of inf\n",
      "Move 2 gives cost of  inf\n"
     ]
    },
    {
     "name": "stderr",
     "output_type": "stream",
     "text": [
      "WARNING:Optimization:Exception in cost evaluation. Cost set to inf.\n"
     ]
    },
    {
     "name": "stdout",
     "output_type": "stream",
     "text": [
      "Iteration number 69\n",
      "Current cost 100.147797433\n",
      "Move 1 gives cost of 100.147797433\n",
      "Move 2 gives cost of  inf\n"
     ]
    },
    {
     "name": "stderr",
     "output_type": "stream",
     "text": [
      "WARNING:Optimization:Exception in cost evaluation. Cost set to inf.\n"
     ]
    },
    {
     "name": "stdout",
     "output_type": "stream",
     "text": [
      "Iteration number 70\n",
      "Current cost 100.147797433\n",
      "Move 1 gives cost of 100.147797433\n",
      "Move 2 gives cost of  inf\n"
     ]
    },
    {
     "name": "stderr",
     "output_type": "stream",
     "text": [
      "WARNING:Optimization:Exception in cost evaluation. Cost set to inf.\n"
     ]
    },
    {
     "name": "stdout",
     "output_type": "stream",
     "text": [
      "Iteration number 71\n",
      "Current cost 100.147797433\n",
      "Move 1 gives cost of 100.147797433\n",
      "Move 2 gives cost of  inf\n"
     ]
    },
    {
     "name": "stderr",
     "output_type": "stream",
     "text": [
      "WARNING:Optimization:Exception in cost evaluation. Cost set to inf.\n"
     ]
    },
    {
     "name": "stdout",
     "output_type": "stream",
     "text": [
      "Iteration number 72\n",
      "Current cost 100.147797433\n",
      "Move 1 gives cost of 100.147797433\n",
      "Move 2 gives cost of  inf\n"
     ]
    },
    {
     "name": "stderr",
     "output_type": "stream",
     "text": [
      "WARNING:Optimization:Exception in cost evaluation. Cost set to inf.\n"
     ]
    },
    {
     "name": "stdout",
     "output_type": "stream",
     "text": [
      "Iteration number 73\n",
      "Current cost 100.147797433\n",
      "Move 1 gives cost of 100.147797433\n",
      "Move 2 gives cost of  inf\n"
     ]
    },
    {
     "name": "stderr",
     "output_type": "stream",
     "text": [
      "WARNING:Optimization:Exception in cost evaluation. Cost set to inf.\n"
     ]
    },
    {
     "name": "stdout",
     "output_type": "stream",
     "text": [
      "Iteration number 74\n",
      "Current cost 100.147797433\n",
      "Move 1 gives cost of 100.147797433\n",
      "Move 2 gives cost of  inf\n"
     ]
    },
    {
     "name": "stderr",
     "output_type": "stream",
     "text": [
      "WARNING:Optimization:Exception in cost evaluation. Cost set to inf.\n"
     ]
    },
    {
     "name": "stdout",
     "output_type": "stream",
     "text": [
      "Iteration number 75\n",
      "Current cost 100.147797433\n",
      "Move 1 gives cost of 100.147797433\n",
      "Move 2 gives cost of  inf\n"
     ]
    },
    {
     "name": "stderr",
     "output_type": "stream",
     "text": [
      "WARNING:Optimization:Exception in cost evaluation. Cost set to inf.\n"
     ]
    },
    {
     "name": "stdout",
     "output_type": "stream",
     "text": [
      "Iteration number 76\n",
      "Current cost 100.147797433\n",
      "Move 1 gives cost of 100.147797433\n",
      "Move 2 gives cost of  inf\n",
      "Iteration number 77\n",
      "Current cost 100.147797433\n",
      "Move 1 gives cost of 100.147797433\n",
      "Move 2 gives cost of  100.147797433\n"
     ]
    },
    {
     "name": "stderr",
     "output_type": "stream",
     "text": [
      "WARNING:Optimization:Exception in cost evaluation. Cost set to inf.\n",
      "WARNING:Optimization:Exception in cost evaluation. Cost set to inf.\n"
     ]
    },
    {
     "name": "stdout",
     "output_type": "stream",
     "text": [
      "Iteration number 78\n",
      "Current cost 100.147797433\n",
      "Move 1 gives cost of inf\n",
      "Move 2 gives cost of  inf\n"
     ]
    },
    {
     "name": "stderr",
     "output_type": "stream",
     "text": [
      "WARNING:Optimization:Exception in cost evaluation. Cost set to inf.\n"
     ]
    },
    {
     "name": "stdout",
     "output_type": "stream",
     "text": [
      "Iteration number 79\n",
      "Current cost 100.147797433\n",
      "Move 1 gives cost of 100.147797433\n",
      "Move 2 gives cost of  inf\n"
     ]
    },
    {
     "name": "stderr",
     "output_type": "stream",
     "text": [
      "WARNING:Optimization:Exception in cost evaluation. Cost set to inf.\n"
     ]
    },
    {
     "name": "stdout",
     "output_type": "stream",
     "text": [
      "Iteration number 80\n",
      "Current cost 100.147797433\n",
      "Move 1 gives cost of 100.147797433\n",
      "Move 2 gives cost of  inf\n"
     ]
    },
    {
     "name": "stderr",
     "output_type": "stream",
     "text": [
      "WARNING:Optimization:Exception in cost evaluation. Cost set to inf.\n"
     ]
    },
    {
     "name": "stdout",
     "output_type": "stream",
     "text": [
      "Iteration number 81\n",
      "Current cost 100.147797433\n",
      "Move 1 gives cost of 100.147797433\n",
      "Move 2 gives cost of  inf\n"
     ]
    },
    {
     "name": "stderr",
     "output_type": "stream",
     "text": [
      "WARNING:Optimization:Exception in cost evaluation. Cost set to inf.\n"
     ]
    },
    {
     "name": "stdout",
     "output_type": "stream",
     "text": [
      "Iteration number 82\n",
      "Current cost 100.147797433\n",
      "Move 1 gives cost of 100.147797433\n",
      "Move 2 gives cost of  inf\n"
     ]
    },
    {
     "name": "stderr",
     "output_type": "stream",
     "text": [
      "WARNING:Optimization:Exception in cost evaluation. Cost set to inf.\n"
     ]
    },
    {
     "name": "stdout",
     "output_type": "stream",
     "text": [
      "Iteration number 83\n",
      "Current cost 100.147797433\n",
      "Move 1 gives cost of 100.147797433\n",
      "Move 2 gives cost of  inf\n"
     ]
    },
    {
     "name": "stderr",
     "output_type": "stream",
     "text": [
      "WARNING:Optimization:Exception in cost evaluation. Cost set to inf.\n",
      "WARNING:Optimization:Exception in cost evaluation. Cost set to inf.\n"
     ]
    },
    {
     "name": "stdout",
     "output_type": "stream",
     "text": [
      "Iteration number 84\n",
      "Current cost 100.147797433\n",
      "Move 1 gives cost of inf\n",
      "Move 2 gives cost of  inf\n"
     ]
    },
    {
     "name": "stderr",
     "output_type": "stream",
     "text": [
      "WARNING:Optimization:Exception in cost evaluation. Cost set to inf.\n"
     ]
    },
    {
     "name": "stdout",
     "output_type": "stream",
     "text": [
      "Iteration number 85\n",
      "Current cost 100.147797433\n",
      "Move 1 gives cost of 100.147797433\n",
      "Move 2 gives cost of  inf\n"
     ]
    },
    {
     "name": "stderr",
     "output_type": "stream",
     "text": [
      "WARNING:Optimization:Exception in cost evaluation. Cost set to inf.\n"
     ]
    },
    {
     "name": "stdout",
     "output_type": "stream",
     "text": [
      "Iteration number 86\n",
      "Current cost 100.147797433\n",
      "Move 1 gives cost of 100.147797433\n",
      "Move 2 gives cost of  inf\n"
     ]
    },
    {
     "name": "stderr",
     "output_type": "stream",
     "text": [
      "WARNING:Optimization:Exception in cost evaluation. Cost set to inf.\n"
     ]
    },
    {
     "name": "stdout",
     "output_type": "stream",
     "text": [
      "Iteration number 87\n",
      "Current cost 100.147797433\n",
      "Move 1 gives cost of 100.147797433\n",
      "Move 2 gives cost of  inf\n"
     ]
    },
    {
     "name": "stderr",
     "output_type": "stream",
     "text": [
      "WARNING:Optimization:Exception in cost evaluation. Cost set to inf.\n"
     ]
    },
    {
     "name": "stdout",
     "output_type": "stream",
     "text": [
      "Iteration number 88\n",
      "Current cost 100.147797433\n",
      "Move 1 gives cost of 100.147797433\n",
      "Move 2 gives cost of  inf\n"
     ]
    },
    {
     "name": "stderr",
     "output_type": "stream",
     "text": [
      "WARNING:Optimization:Exception in cost evaluation. Cost set to inf.\n"
     ]
    },
    {
     "name": "stdout",
     "output_type": "stream",
     "text": [
      "Iteration number 89\n",
      "Current cost 100.147797433\n",
      "Move 1 gives cost of 100.147797433\n",
      "Move 2 gives cost of  inf\n"
     ]
    },
    {
     "name": "stderr",
     "output_type": "stream",
     "text": [
      "WARNING:Optimization:Exception in cost evaluation. Cost set to inf.\n"
     ]
    },
    {
     "name": "stdout",
     "output_type": "stream",
     "text": [
      "Iteration number 90\n",
      "Current cost 100.147797433\n",
      "Move 1 gives cost of 100.147797433\n",
      "Move 2 gives cost of  inf\n"
     ]
    },
    {
     "name": "stderr",
     "output_type": "stream",
     "text": [
      "WARNING:Optimization:Exception in cost evaluation. Cost set to inf.\n"
     ]
    },
    {
     "name": "stdout",
     "output_type": "stream",
     "text": [
      "Iteration number 91\n",
      "Current cost 100.147797433\n",
      "Move 1 gives cost of 100.147797433\n",
      "Move 2 gives cost of  inf\n"
     ]
    },
    {
     "name": "stderr",
     "output_type": "stream",
     "text": [
      "WARNING:Optimization:Exception in cost evaluation. Cost set to inf.\n"
     ]
    },
    {
     "name": "stdout",
     "output_type": "stream",
     "text": [
      "Iteration number 92\n",
      "Current cost 100.147797433\n",
      "Move 1 gives cost of 100.147797433\n",
      "Move 2 gives cost of  inf\n"
     ]
    },
    {
     "name": "stderr",
     "output_type": "stream",
     "text": [
      "WARNING:Optimization:Exception in cost evaluation. Cost set to inf.\n"
     ]
    },
    {
     "name": "stdout",
     "output_type": "stream",
     "text": [
      "Iteration number 93\n",
      "Current cost 100.147797433\n",
      "Move 1 gives cost of 100.147797433\n",
      "Move 2 gives cost of  inf\n"
     ]
    },
    {
     "name": "stderr",
     "output_type": "stream",
     "text": [
      "WARNING:Optimization:Exception in cost evaluation. Cost set to inf.\n"
     ]
    },
    {
     "name": "stdout",
     "output_type": "stream",
     "text": [
      "Iteration number 94\n",
      "Current cost 100.147797433\n",
      "Move 1 gives cost of 100.147797433\n",
      "Move 2 gives cost of  inf\n"
     ]
    },
    {
     "name": "stderr",
     "output_type": "stream",
     "text": [
      "WARNING:Optimization:Exception in cost evaluation. Cost set to inf.\n"
     ]
    },
    {
     "name": "stdout",
     "output_type": "stream",
     "text": [
      "Iteration number 95\n",
      "Current cost 100.147797433\n",
      "Move 1 gives cost of 100.147797433\n",
      "Move 2 gives cost of  inf\n"
     ]
    },
    {
     "name": "stderr",
     "output_type": "stream",
     "text": [
      "WARNING:Optimization:Exception in cost evaluation. Cost set to inf.\n"
     ]
    },
    {
     "name": "stdout",
     "output_type": "stream",
     "text": [
      "Iteration number 96\n",
      "Current cost 100.147797433\n",
      "Move 1 gives cost of 100.147797433\n",
      "Move 2 gives cost of  inf\n"
     ]
    },
    {
     "name": "stderr",
     "output_type": "stream",
     "text": [
      "WARNING:Optimization:Exception in cost evaluation. Cost set to inf.\n"
     ]
    },
    {
     "name": "stdout",
     "output_type": "stream",
     "text": [
      "Iteration number 97\n",
      "Current cost 100.147797433\n",
      "Move 1 gives cost of 100.147797433\n",
      "Move 2 gives cost of  inf\n"
     ]
    },
    {
     "name": "stderr",
     "output_type": "stream",
     "text": [
      "WARNING:Optimization:Exception in cost evaluation. Cost set to inf.\n"
     ]
    },
    {
     "name": "stdout",
     "output_type": "stream",
     "text": [
      "Iteration number 98\n",
      "Current cost 100.147797433\n",
      "Move 1 gives cost of 100.147797433\n",
      "Move 2 gives cost of  inf\n"
     ]
    },
    {
     "name": "stderr",
     "output_type": "stream",
     "text": [
      "WARNING:Optimization:Exception in cost evaluation. Cost set to inf.\n"
     ]
    },
    {
     "name": "stdout",
     "output_type": "stream",
     "text": [
      "Iteration number 99\n",
      "Current cost 100.147797433\n",
      "Move 1 gives cost of 100.147797433\n",
      "Move 2 gives cost of  inf\n"
     ]
    },
    {
     "name": "stderr",
     "output_type": "stream",
     "text": [
      "WARNING:Optimization:Exception in cost evaluation. Cost set to inf.\n"
     ]
    },
    {
     "name": "stdout",
     "output_type": "stream",
     "text": [
      "Iteration number 100\n",
      "Current cost 100.147797433\n",
      "Move 1 gives cost of 100.147797433\n",
      "Move 2 gives cost of  inf\n"
     ]
    },
    {
     "name": "stderr",
     "output_type": "stream",
     "text": [
      "WARNING:Optimization:Exception in cost evaluation. Cost set to inf.\n"
     ]
    },
    {
     "name": "stdout",
     "output_type": "stream",
     "text": [
      "Iteration number 101\n",
      "Current cost 100.147797433\n",
      "Move 1 gives cost of 100.147797433\n",
      "Move 2 gives cost of  inf\n"
     ]
    },
    {
     "name": "stderr",
     "output_type": "stream",
     "text": [
      "WARNING:Optimization:Exception in cost evaluation. Cost set to inf.\n"
     ]
    },
    {
     "name": "stdout",
     "output_type": "stream",
     "text": [
      "Iteration number 102\n",
      "Current cost 100.147797433\n",
      "Move 1 gives cost of 100.147797433\n",
      "Move 2 gives cost of  inf\n"
     ]
    },
    {
     "name": "stderr",
     "output_type": "stream",
     "text": [
      "WARNING:Optimization:Exception in cost evaluation. Cost set to inf.\n"
     ]
    },
    {
     "name": "stdout",
     "output_type": "stream",
     "text": [
      "Iteration number 103\n",
      "Current cost 100.147797433\n",
      "Move 1 gives cost of 100.147797433\n",
      "Move 2 gives cost of  inf\n"
     ]
    },
    {
     "name": "stderr",
     "output_type": "stream",
     "text": [
      "WARNING:Optimization:Exception in cost evaluation. Cost set to inf.\n"
     ]
    },
    {
     "name": "stdout",
     "output_type": "stream",
     "text": [
      "Iteration number 104\n",
      "Current cost 100.147797433\n",
      "Move 1 gives cost of 100.147797433\n",
      "Move 2 gives cost of  inf\n"
     ]
    },
    {
     "name": "stderr",
     "output_type": "stream",
     "text": [
      "WARNING:Optimization:Exception in cost evaluation. Cost set to inf.\n"
     ]
    },
    {
     "name": "stdout",
     "output_type": "stream",
     "text": [
      "Iteration number 105\n",
      "Current cost 100.147797433\n",
      "Move 1 gives cost of 100.147797433\n",
      "Move 2 gives cost of  inf\n"
     ]
    },
    {
     "name": "stderr",
     "output_type": "stream",
     "text": [
      "WARNING:Optimization:Exception in cost evaluation. Cost set to inf.\n"
     ]
    },
    {
     "name": "stdout",
     "output_type": "stream",
     "text": [
      "Iteration number 106\n",
      "Current cost 100.147797433\n",
      "Move 1 gives cost of 100.147797433\n",
      "Move 2 gives cost of  inf\n"
     ]
    },
    {
     "name": "stderr",
     "output_type": "stream",
     "text": [
      "WARNING:Optimization:Exception in cost evaluation. Cost set to inf.\n"
     ]
    },
    {
     "name": "stdout",
     "output_type": "stream",
     "text": [
      "Iteration number 107\n",
      "Current cost 100.147797433\n",
      "Move 1 gives cost of 100.147797433\n",
      "Move 2 gives cost of  inf\n"
     ]
    },
    {
     "name": "stderr",
     "output_type": "stream",
     "text": [
      "WARNING:Optimization:Exception in cost evaluation. Cost set to inf.\n"
     ]
    },
    {
     "name": "stdout",
     "output_type": "stream",
     "text": [
      "Iteration number 108\n",
      "Current cost 100.147797433\n",
      "Move 1 gives cost of 100.147797433\n",
      "Move 2 gives cost of  inf\n"
     ]
    },
    {
     "name": "stderr",
     "output_type": "stream",
     "text": [
      "WARNING:Optimization:Exception in cost evaluation. Cost set to inf.\n"
     ]
    },
    {
     "name": "stdout",
     "output_type": "stream",
     "text": [
      "Iteration number 109\n",
      "Current cost 100.147797433\n",
      "Move 1 gives cost of 100.147797433\n",
      "Move 2 gives cost of  inf\n"
     ]
    },
    {
     "name": "stderr",
     "output_type": "stream",
     "text": [
      "WARNING:Optimization:Exception in cost evaluation. Cost set to inf.\n"
     ]
    },
    {
     "name": "stdout",
     "output_type": "stream",
     "text": [
      "Iteration number 110\n",
      "Current cost 100.147797433\n",
      "Move 1 gives cost of 100.147797433\n",
      "Move 2 gives cost of  inf\n"
     ]
    },
    {
     "name": "stderr",
     "output_type": "stream",
     "text": [
      "WARNING:Optimization:Exception in cost evaluation. Cost set to inf.\n"
     ]
    },
    {
     "name": "stdout",
     "output_type": "stream",
     "text": [
      "Iteration number 111\n",
      "Current cost 100.147797433\n",
      "Move 1 gives cost of 100.147797433\n",
      "Move 2 gives cost of  inf\n"
     ]
    },
    {
     "name": "stderr",
     "output_type": "stream",
     "text": [
      "WARNING:Optimization:Exception in cost evaluation. Cost set to inf.\n"
     ]
    },
    {
     "name": "stdout",
     "output_type": "stream",
     "text": [
      "Iteration number 112\n",
      "Current cost 100.147797433\n",
      "Move 1 gives cost of 100.147797433\n",
      "Move 2 gives cost of  inf\n"
     ]
    },
    {
     "name": "stderr",
     "output_type": "stream",
     "text": [
      "WARNING:Optimization:Exception in cost evaluation. Cost set to inf.\n"
     ]
    },
    {
     "name": "stdout",
     "output_type": "stream",
     "text": [
      "Iteration number 113\n",
      "Current cost 100.147797433\n",
      "Move 1 gives cost of 100.147797433\n",
      "Move 2 gives cost of  inf\n"
     ]
    },
    {
     "name": "stderr",
     "output_type": "stream",
     "text": [
      "WARNING:Optimization:Exception in cost evaluation. Cost set to inf.\n"
     ]
    },
    {
     "name": "stdout",
     "output_type": "stream",
     "text": [
      "Iteration number 114\n",
      "Current cost 100.147797433\n",
      "Move 1 gives cost of 100.147797433\n",
      "Move 2 gives cost of  inf\n"
     ]
    },
    {
     "name": "stderr",
     "output_type": "stream",
     "text": [
      "WARNING:Optimization:Exception in cost evaluation. Cost set to inf.\n"
     ]
    },
    {
     "name": "stdout",
     "output_type": "stream",
     "text": [
      "Iteration number 115\n",
      "Current cost 100.147797433\n",
      "Move 1 gives cost of 100.147797433\n",
      "Move 2 gives cost of  inf\n"
     ]
    },
    {
     "name": "stderr",
     "output_type": "stream",
     "text": [
      "WARNING:Optimization:Exception in cost evaluation. Cost set to inf.\n"
     ]
    },
    {
     "name": "stdout",
     "output_type": "stream",
     "text": [
      "Iteration number 116\n",
      "Current cost 100.147797433\n",
      "Move 1 gives cost of 100.147797433\n",
      "Move 2 gives cost of  inf\n"
     ]
    },
    {
     "name": "stderr",
     "output_type": "stream",
     "text": [
      "WARNING:Optimization:Exception in cost evaluation. Cost set to inf.\n"
     ]
    },
    {
     "name": "stdout",
     "output_type": "stream",
     "text": [
      "Iteration number 117\n",
      "Current cost 100.147797433\n",
      "Move 1 gives cost of 100.147797433\n",
      "Move 2 gives cost of  inf\n"
     ]
    },
    {
     "name": "stderr",
     "output_type": "stream",
     "text": [
      "WARNING:Optimization:Exception in cost evaluation. Cost set to inf.\n"
     ]
    },
    {
     "name": "stdout",
     "output_type": "stream",
     "text": [
      "Iteration number 118\n",
      "Current cost 100.147797433\n",
      "Move 1 gives cost of 100.147797433\n",
      "Move 2 gives cost of  inf\n"
     ]
    },
    {
     "name": "stderr",
     "output_type": "stream",
     "text": [
      "WARNING:Optimization:Exception in cost evaluation. Cost set to inf.\n"
     ]
    },
    {
     "name": "stdout",
     "output_type": "stream",
     "text": [
      "Iteration number 119\n",
      "Current cost 100.147797433\n",
      "Move 1 gives cost of 100.147797433\n",
      "Move 2 gives cost of  inf\n"
     ]
    },
    {
     "name": "stderr",
     "output_type": "stream",
     "text": [
      "WARNING:Optimization:Exception in cost evaluation. Cost set to inf.\n"
     ]
    },
    {
     "name": "stdout",
     "output_type": "stream",
     "text": [
      "Iteration number 120\n",
      "Current cost 100.147797433\n",
      "Move 1 gives cost of 100.147797433\n",
      "Move 2 gives cost of  inf\n"
     ]
    },
    {
     "name": "stderr",
     "output_type": "stream",
     "text": [
      "WARNING:Optimization:Exception in cost evaluation. Cost set to inf.\n"
     ]
    },
    {
     "name": "stdout",
     "output_type": "stream",
     "text": [
      "Iteration number 121\n",
      "Current cost 100.147797433\n",
      "Move 1 gives cost of 100.147797433\n",
      "Move 2 gives cost of  inf\n"
     ]
    },
    {
     "name": "stderr",
     "output_type": "stream",
     "text": [
      "WARNING:Optimization:Exception in cost evaluation. Cost set to inf.\n"
     ]
    },
    {
     "name": "stdout",
     "output_type": "stream",
     "text": [
      "Iteration number 122\n",
      "Current cost 100.147797433\n",
      "Move 1 gives cost of 100.147797433\n",
      "Move 2 gives cost of  inf\n"
     ]
    },
    {
     "name": "stderr",
     "output_type": "stream",
     "text": [
      "WARNING:Optimization:Exception in cost evaluation. Cost set to inf.\n"
     ]
    },
    {
     "name": "stdout",
     "output_type": "stream",
     "text": [
      "Iteration number 123\n",
      "Current cost 100.147797433\n",
      "Move 1 gives cost of 100.147797433\n",
      "Move 2 gives cost of  inf\n"
     ]
    },
    {
     "name": "stderr",
     "output_type": "stream",
     "text": [
      "WARNING:Optimization:Exception in cost evaluation. Cost set to inf.\n"
     ]
    },
    {
     "name": "stdout",
     "output_type": "stream",
     "text": [
      "Iteration number 124\n",
      "Current cost 100.147797433\n",
      "Move 1 gives cost of 100.147797433\n",
      "Move 2 gives cost of  inf\n"
     ]
    },
    {
     "name": "stderr",
     "output_type": "stream",
     "text": [
      "WARNING:Optimization:Exception in cost evaluation. Cost set to inf.\n"
     ]
    },
    {
     "name": "stdout",
     "output_type": "stream",
     "text": [
      "Iteration number 125\n",
      "Current cost 100.147797433\n",
      "Move 1 gives cost of 100.147797433\n",
      "Move 2 gives cost of  inf\n"
     ]
    },
    {
     "name": "stderr",
     "output_type": "stream",
     "text": [
      "WARNING:Optimization:Exception in cost evaluation. Cost set to inf.\n"
     ]
    },
    {
     "name": "stdout",
     "output_type": "stream",
     "text": [
      "Iteration number 126\n",
      "Current cost 100.147797433\n",
      "Move 1 gives cost of 100.147797433\n",
      "Move 2 gives cost of  inf\n"
     ]
    },
    {
     "name": "stderr",
     "output_type": "stream",
     "text": [
      "WARNING:Optimization:Exception in cost evaluation. Cost set to inf.\n"
     ]
    },
    {
     "name": "stdout",
     "output_type": "stream",
     "text": [
      "Iteration number 127\n",
      "Current cost 100.147797433\n",
      "Move 1 gives cost of 100.147797433\n",
      "Move 2 gives cost of  inf\n"
     ]
    },
    {
     "name": "stderr",
     "output_type": "stream",
     "text": [
      "WARNING:Optimization:Exception in cost evaluation. Cost set to inf.\n"
     ]
    },
    {
     "name": "stdout",
     "output_type": "stream",
     "text": [
      "Iteration number 128\n",
      "Current cost 100.147797433\n",
      "Move 1 gives cost of 100.147797433\n",
      "Move 2 gives cost of  inf\n"
     ]
    },
    {
     "name": "stderr",
     "output_type": "stream",
     "text": [
      "WARNING:Optimization:Exception in cost evaluation. Cost set to inf.\n"
     ]
    },
    {
     "name": "stdout",
     "output_type": "stream",
     "text": [
      "Iteration number 129\n",
      "Current cost 100.147797433\n",
      "Move 1 gives cost of 100.147797433\n",
      "Move 2 gives cost of  inf\n"
     ]
    },
    {
     "name": "stderr",
     "output_type": "stream",
     "text": [
      "WARNING:Optimization:Exception in cost evaluation. Cost set to inf.\n"
     ]
    },
    {
     "name": "stdout",
     "output_type": "stream",
     "text": [
      "Iteration number 130\n",
      "Current cost 100.147797433\n",
      "Move 1 gives cost of 100.147797433\n",
      "Move 2 gives cost of  inf\n"
     ]
    },
    {
     "name": "stderr",
     "output_type": "stream",
     "text": [
      "WARNING:Optimization:Exception in cost evaluation. Cost set to inf.\n"
     ]
    },
    {
     "name": "stdout",
     "output_type": "stream",
     "text": [
      "Iteration number 131\n",
      "Current cost 100.147797433\n",
      "Move 1 gives cost of 100.147797433\n",
      "Move 2 gives cost of  inf\n"
     ]
    },
    {
     "name": "stderr",
     "output_type": "stream",
     "text": [
      "WARNING:Optimization:Exception in cost evaluation. Cost set to inf.\n"
     ]
    },
    {
     "name": "stdout",
     "output_type": "stream",
     "text": [
      "Iteration number 132\n",
      "Current cost 100.147797433\n",
      "Move 1 gives cost of 100.147797433\n",
      "Move 2 gives cost of  inf\n"
     ]
    },
    {
     "name": "stderr",
     "output_type": "stream",
     "text": [
      "WARNING:Optimization:Exception in cost evaluation. Cost set to inf.\n"
     ]
    },
    {
     "name": "stdout",
     "output_type": "stream",
     "text": [
      "Iteration number 133\n",
      "Current cost 100.147797433\n",
      "Move 1 gives cost of 100.147797433\n",
      "Move 2 gives cost of  inf\n"
     ]
    },
    {
     "name": "stderr",
     "output_type": "stream",
     "text": [
      "WARNING:Optimization:Exception in cost evaluation. Cost set to inf.\n"
     ]
    },
    {
     "name": "stdout",
     "output_type": "stream",
     "text": [
      "Iteration number 134\n",
      "Current cost 100.147797433\n",
      "Move 1 gives cost of 100.147797433\n",
      "Move 2 gives cost of  inf\n"
     ]
    },
    {
     "name": "stderr",
     "output_type": "stream",
     "text": [
      "WARNING:Optimization:Exception in cost evaluation. Cost set to inf.\n"
     ]
    },
    {
     "name": "stdout",
     "output_type": "stream",
     "text": [
      "Iteration number 135\n",
      "Current cost 100.147797433\n",
      "Move 1 gives cost of 100.147797433\n",
      "Move 2 gives cost of  inf\n"
     ]
    },
    {
     "name": "stderr",
     "output_type": "stream",
     "text": [
      "WARNING:Optimization:Exception in cost evaluation. Cost set to inf.\n"
     ]
    },
    {
     "name": "stdout",
     "output_type": "stream",
     "text": [
      "Iteration number 136\n",
      "Current cost 100.147797433\n",
      "Move 1 gives cost of 100.147797433\n",
      "Move 2 gives cost of  inf\n"
     ]
    },
    {
     "name": "stderr",
     "output_type": "stream",
     "text": [
      "WARNING:Optimization:Exception in cost evaluation. Cost set to inf.\n"
     ]
    },
    {
     "name": "stdout",
     "output_type": "stream",
     "text": [
      "Iteration number 137\n",
      "Current cost 100.147797433\n",
      "Move 1 gives cost of 100.147797433\n",
      "Move 2 gives cost of  inf\n"
     ]
    },
    {
     "name": "stderr",
     "output_type": "stream",
     "text": [
      "WARNING:Optimization:Exception in cost evaluation. Cost set to inf.\n"
     ]
    },
    {
     "name": "stdout",
     "output_type": "stream",
     "text": [
      "Iteration number 138\n",
      "Current cost 100.147797433\n",
      "Move 1 gives cost of 100.147797433\n",
      "Move 2 gives cost of  inf\n"
     ]
    },
    {
     "name": "stderr",
     "output_type": "stream",
     "text": [
      "WARNING:Optimization:Exception in cost evaluation. Cost set to inf.\n"
     ]
    },
    {
     "name": "stdout",
     "output_type": "stream",
     "text": [
      "Iteration number 139\n",
      "Current cost 100.147797433\n",
      "Move 1 gives cost of 100.147797433\n",
      "Move 2 gives cost of  inf\n"
     ]
    },
    {
     "name": "stderr",
     "output_type": "stream",
     "text": [
      "WARNING:Optimization:Exception in cost evaluation. Cost set to inf.\n"
     ]
    },
    {
     "name": "stdout",
     "output_type": "stream",
     "text": [
      "Iteration number 140\n",
      "Current cost 100.147797433\n",
      "Move 1 gives cost of 100.147797433\n",
      "Move 2 gives cost of  inf\n"
     ]
    },
    {
     "name": "stderr",
     "output_type": "stream",
     "text": [
      "WARNING:Optimization:Exception in cost evaluation. Cost set to inf.\n"
     ]
    },
    {
     "name": "stdout",
     "output_type": "stream",
     "text": [
      "Iteration number 141\n",
      "Current cost 100.147797433\n",
      "Move 1 gives cost of 100.147797433\n",
      "Move 2 gives cost of  inf\n"
     ]
    },
    {
     "name": "stderr",
     "output_type": "stream",
     "text": [
      "WARNING:Optimization:Exception in cost evaluation. Cost set to inf.\n"
     ]
    },
    {
     "name": "stdout",
     "output_type": "stream",
     "text": [
      "Iteration number 142\n",
      "Current cost 100.147797433\n",
      "Move 1 gives cost of 100.147797433\n",
      "Move 2 gives cost of  inf\n"
     ]
    },
    {
     "name": "stderr",
     "output_type": "stream",
     "text": [
      "WARNING:Optimization:Exception in cost evaluation. Cost set to inf.\n"
     ]
    },
    {
     "name": "stdout",
     "output_type": "stream",
     "text": [
      "Iteration number 143\n",
      "Current cost 100.147797433\n",
      "Move 1 gives cost of 100.147797433\n",
      "Move 2 gives cost of  inf\n"
     ]
    },
    {
     "name": "stderr",
     "output_type": "stream",
     "text": [
      "WARNING:Optimization:Exception in cost evaluation. Cost set to inf.\n"
     ]
    },
    {
     "name": "stdout",
     "output_type": "stream",
     "text": [
      "Iteration number 144\n",
      "Current cost 100.147797433\n",
      "Move 1 gives cost of 100.147797433\n",
      "Move 2 gives cost of  inf\n"
     ]
    },
    {
     "name": "stderr",
     "output_type": "stream",
     "text": [
      "WARNING:Optimization:Exception in cost evaluation. Cost set to inf.\n"
     ]
    },
    {
     "name": "stdout",
     "output_type": "stream",
     "text": [
      "Iteration number 145\n",
      "Current cost 100.147797433\n",
      "Move 1 gives cost of 100.147797433\n",
      "Move 2 gives cost of  inf\n"
     ]
    },
    {
     "name": "stderr",
     "output_type": "stream",
     "text": [
      "WARNING:Optimization:Exception in cost evaluation. Cost set to inf.\n"
     ]
    },
    {
     "name": "stdout",
     "output_type": "stream",
     "text": [
      "Iteration number 146\n",
      "Current cost 100.147797433\n",
      "Move 1 gives cost of 100.147797433\n",
      "Move 2 gives cost of  inf\n"
     ]
    },
    {
     "name": "stderr",
     "output_type": "stream",
     "text": [
      "WARNING:Optimization:Exception in cost evaluation. Cost set to inf.\n"
     ]
    },
    {
     "name": "stdout",
     "output_type": "stream",
     "text": [
      "Iteration number 147\n",
      "Current cost 100.147797433\n",
      "Move 1 gives cost of 100.147797433\n",
      "Move 2 gives cost of  inf\n"
     ]
    },
    {
     "name": "stderr",
     "output_type": "stream",
     "text": [
      "WARNING:Optimization:Exception in cost evaluation. Cost set to inf.\n"
     ]
    },
    {
     "name": "stdout",
     "output_type": "stream",
     "text": [
      "Iteration number 148\n",
      "Current cost 100.147797433\n",
      "Move 1 gives cost of 100.147797433\n",
      "Move 2 gives cost of  inf\n"
     ]
    },
    {
     "name": "stderr",
     "output_type": "stream",
     "text": [
      "WARNING:Optimization:Exception in cost evaluation. Cost set to inf.\n"
     ]
    },
    {
     "name": "stdout",
     "output_type": "stream",
     "text": [
      "Iteration number 149\n",
      "Current cost 100.147797433\n",
      "Move 1 gives cost of 100.147797433\n",
      "Move 2 gives cost of  inf\n"
     ]
    },
    {
     "name": "stderr",
     "output_type": "stream",
     "text": [
      "WARNING:Optimization:Exception in cost evaluation. Cost set to inf.\n"
     ]
    },
    {
     "name": "stdout",
     "output_type": "stream",
     "text": [
      "Iteration number 150\n",
      "Current cost 100.147797433\n",
      "Move 1 gives cost of 100.147797433\n",
      "Move 2 gives cost of  inf\n"
     ]
    },
    {
     "name": "stderr",
     "output_type": "stream",
     "text": [
      "WARNING:Optimization:Exception in cost evaluation. Cost set to inf.\n"
     ]
    },
    {
     "name": "stdout",
     "output_type": "stream",
     "text": [
      "Iteration number 151\n",
      "Current cost 100.147797433\n",
      "Move 1 gives cost of 100.147797433\n",
      "Move 2 gives cost of  inf\n"
     ]
    },
    {
     "name": "stderr",
     "output_type": "stream",
     "text": [
      "WARNING:Optimization:Exception in cost evaluation. Cost set to inf.\n"
     ]
    },
    {
     "name": "stdout",
     "output_type": "stream",
     "text": [
      "Iteration number 152\n",
      "Current cost 100.147797433\n",
      "Move 1 gives cost of 100.147797433\n",
      "Move 2 gives cost of  inf\n"
     ]
    },
    {
     "name": "stderr",
     "output_type": "stream",
     "text": [
      "WARNING:Optimization:Exception in cost evaluation. Cost set to inf.\n"
     ]
    },
    {
     "name": "stdout",
     "output_type": "stream",
     "text": [
      "Iteration number 153\n",
      "Current cost 100.147797433\n",
      "Move 1 gives cost of 100.147797433\n",
      "Move 2 gives cost of  inf\n"
     ]
    },
    {
     "name": "stderr",
     "output_type": "stream",
     "text": [
      "WARNING:Optimization:Exception in cost evaluation. Cost set to inf.\n"
     ]
    },
    {
     "name": "stdout",
     "output_type": "stream",
     "text": [
      "Iteration number 154\n",
      "Current cost 100.147797433\n",
      "Move 1 gives cost of 100.147797433\n",
      "Move 2 gives cost of  inf\n"
     ]
    },
    {
     "name": "stderr",
     "output_type": "stream",
     "text": [
      "WARNING:Optimization:Exception in cost evaluation. Cost set to inf.\n"
     ]
    },
    {
     "name": "stdout",
     "output_type": "stream",
     "text": [
      "Iteration number 155\n",
      "Current cost 100.147797433\n",
      "Move 1 gives cost of 100.147797433\n",
      "Move 2 gives cost of  inf\n"
     ]
    },
    {
     "name": "stderr",
     "output_type": "stream",
     "text": [
      "WARNING:Optimization:Exception in cost evaluation. Cost set to inf.\n"
     ]
    },
    {
     "name": "stdout",
     "output_type": "stream",
     "text": [
      "Iteration number 156\n",
      "Current cost 100.147797433\n",
      "Move 1 gives cost of 100.147797433\n",
      "Move 2 gives cost of  inf\n"
     ]
    },
    {
     "name": "stderr",
     "output_type": "stream",
     "text": [
      "WARNING:Optimization:Exception in cost evaluation. Cost set to inf.\n"
     ]
    },
    {
     "name": "stdout",
     "output_type": "stream",
     "text": [
      "Iteration number 157\n",
      "Current cost 100.147797433\n",
      "Move 1 gives cost of 100.147797433\n",
      "Move 2 gives cost of  inf\n"
     ]
    },
    {
     "name": "stderr",
     "output_type": "stream",
     "text": [
      "WARNING:Optimization:Exception in cost evaluation. Cost set to inf.\n"
     ]
    },
    {
     "name": "stdout",
     "output_type": "stream",
     "text": [
      "Iteration number 158\n",
      "Current cost 100.147797433\n",
      "Move 1 gives cost of 100.147797433\n",
      "Move 2 gives cost of  inf\n"
     ]
    },
    {
     "name": "stderr",
     "output_type": "stream",
     "text": [
      "WARNING:Optimization:Exception in cost evaluation. Cost set to inf.\n"
     ]
    },
    {
     "name": "stdout",
     "output_type": "stream",
     "text": [
      "Iteration number 159\n",
      "Current cost 100.147797433\n",
      "Move 1 gives cost of 100.147797433\n",
      "Move 2 gives cost of  inf\n"
     ]
    },
    {
     "name": "stderr",
     "output_type": "stream",
     "text": [
      "WARNING:Optimization:Exception in cost evaluation. Cost set to inf.\n"
     ]
    },
    {
     "name": "stdout",
     "output_type": "stream",
     "text": [
      "Iteration number 160\n",
      "Current cost 100.147797433\n",
      "Move 1 gives cost of 100.147797433\n",
      "Move 2 gives cost of  inf\n"
     ]
    },
    {
     "name": "stderr",
     "output_type": "stream",
     "text": [
      "WARNING:Optimization:Exception in cost evaluation. Cost set to inf.\n"
     ]
    },
    {
     "name": "stdout",
     "output_type": "stream",
     "text": [
      "Iteration number 161\n",
      "Current cost 100.147797433\n",
      "Move 1 gives cost of 100.147797433\n",
      "Move 2 gives cost of  inf\n"
     ]
    },
    {
     "name": "stderr",
     "output_type": "stream",
     "text": [
      "WARNING:Optimization:Exception in cost evaluation. Cost set to inf.\n"
     ]
    },
    {
     "name": "stdout",
     "output_type": "stream",
     "text": [
      "Iteration number 162\n",
      "Current cost 100.147797433\n",
      "Move 1 gives cost of 100.147797433\n",
      "Move 2 gives cost of  inf\n"
     ]
    },
    {
     "name": "stderr",
     "output_type": "stream",
     "text": [
      "WARNING:Optimization:Exception in cost evaluation. Cost set to inf.\n"
     ]
    },
    {
     "name": "stdout",
     "output_type": "stream",
     "text": [
      "Iteration number 163\n",
      "Current cost 100.147797433\n",
      "Move 1 gives cost of 100.147797433\n",
      "Move 2 gives cost of  inf\n"
     ]
    },
    {
     "name": "stderr",
     "output_type": "stream",
     "text": [
      "WARNING:Optimization:Exception in cost evaluation. Cost set to inf.\n"
     ]
    },
    {
     "name": "stdout",
     "output_type": "stream",
     "text": [
      "Iteration number 164\n",
      "Current cost 100.147797433\n",
      "Move 1 gives cost of 100.147797433\n",
      "Move 2 gives cost of  inf\n"
     ]
    },
    {
     "name": "stderr",
     "output_type": "stream",
     "text": [
      "WARNING:Optimization:Exception in cost evaluation. Cost set to inf.\n"
     ]
    },
    {
     "name": "stdout",
     "output_type": "stream",
     "text": [
      "Iteration number 165\n",
      "Current cost 100.147797433\n",
      "Move 1 gives cost of 100.147797433\n",
      "Move 2 gives cost of  inf\n"
     ]
    },
    {
     "name": "stderr",
     "output_type": "stream",
     "text": [
      "WARNING:Optimization:Exception in cost evaluation. Cost set to inf.\n"
     ]
    },
    {
     "name": "stdout",
     "output_type": "stream",
     "text": [
      "Iteration number 166\n",
      "Current cost 100.147797433\n",
      "Move 1 gives cost of 100.147797433\n",
      "Move 2 gives cost of  inf\n"
     ]
    },
    {
     "name": "stderr",
     "output_type": "stream",
     "text": [
      "WARNING:Optimization:Exception in cost evaluation. Cost set to inf.\n"
     ]
    },
    {
     "name": "stdout",
     "output_type": "stream",
     "text": [
      "Iteration number 167\n",
      "Current cost 100.147797433\n",
      "Move 1 gives cost of 100.147797433\n",
      "Move 2 gives cost of  inf\n"
     ]
    },
    {
     "name": "stderr",
     "output_type": "stream",
     "text": [
      "WARNING:Optimization:Exception in cost evaluation. Cost set to inf.\n"
     ]
    },
    {
     "name": "stdout",
     "output_type": "stream",
     "text": [
      "Iteration number 168\n",
      "Current cost 100.147797433\n",
      "Move 1 gives cost of 100.147797433\n",
      "Move 2 gives cost of  inf\n"
     ]
    },
    {
     "name": "stderr",
     "output_type": "stream",
     "text": [
      "WARNING:Optimization:Exception in cost evaluation. Cost set to inf.\n"
     ]
    },
    {
     "name": "stdout",
     "output_type": "stream",
     "text": [
      "Iteration number 169\n",
      "Current cost 100.147797433\n",
      "Move 1 gives cost of 100.147797433\n",
      "Move 2 gives cost of  inf\n"
     ]
    },
    {
     "name": "stderr",
     "output_type": "stream",
     "text": [
      "WARNING:Optimization:Exception in cost evaluation. Cost set to inf.\n"
     ]
    },
    {
     "name": "stdout",
     "output_type": "stream",
     "text": [
      "Iteration number 170\n",
      "Current cost 100.147797433\n",
      "Move 1 gives cost of 100.147797433\n",
      "Move 2 gives cost of  inf\n"
     ]
    },
    {
     "name": "stderr",
     "output_type": "stream",
     "text": [
      "WARNING:Optimization:Exception in cost evaluation. Cost set to inf.\n"
     ]
    },
    {
     "name": "stdout",
     "output_type": "stream",
     "text": [
      "Iteration number 171\n",
      "Current cost 100.147797433\n",
      "Move 1 gives cost of 100.147797433\n",
      "Move 2 gives cost of  inf\n"
     ]
    },
    {
     "name": "stderr",
     "output_type": "stream",
     "text": [
      "WARNING:Optimization:Exception in cost evaluation. Cost set to inf.\n"
     ]
    },
    {
     "name": "stdout",
     "output_type": "stream",
     "text": [
      "Iteration number 172\n",
      "Current cost 100.147797433\n",
      "Move 1 gives cost of 100.147797433\n",
      "Move 2 gives cost of  inf\n"
     ]
    },
    {
     "name": "stderr",
     "output_type": "stream",
     "text": [
      "WARNING:Optimization:Exception in cost evaluation. Cost set to inf.\n"
     ]
    },
    {
     "name": "stdout",
     "output_type": "stream",
     "text": [
      "Iteration number 173\n",
      "Current cost 100.147797433\n",
      "Move 1 gives cost of 100.147797433\n",
      "Move 2 gives cost of  inf\n"
     ]
    },
    {
     "name": "stderr",
     "output_type": "stream",
     "text": [
      "WARNING:Optimization:Exception in cost evaluation. Cost set to inf.\n"
     ]
    },
    {
     "name": "stdout",
     "output_type": "stream",
     "text": [
      "Iteration number 174\n",
      "Current cost 100.147797433\n",
      "Move 1 gives cost of 100.147797433\n",
      "Move 2 gives cost of  inf\n"
     ]
    },
    {
     "name": "stderr",
     "output_type": "stream",
     "text": [
      "WARNING:Optimization:Exception in cost evaluation. Cost set to inf.\n"
     ]
    },
    {
     "name": "stdout",
     "output_type": "stream",
     "text": [
      "Iteration number 175\n",
      "Current cost 100.147797433\n",
      "Move 1 gives cost of 100.147797433\n",
      "Move 2 gives cost of  inf\n"
     ]
    },
    {
     "name": "stderr",
     "output_type": "stream",
     "text": [
      "WARNING:Optimization:Exception in cost evaluation. Cost set to inf.\n"
     ]
    },
    {
     "name": "stdout",
     "output_type": "stream",
     "text": [
      "Iteration number 176\n",
      "Current cost 100.147797433\n",
      "Move 1 gives cost of 100.147797433\n",
      "Move 2 gives cost of  inf\n"
     ]
    },
    {
     "name": "stderr",
     "output_type": "stream",
     "text": [
      "WARNING:Optimization:Exception in cost evaluation. Cost set to inf.\n"
     ]
    },
    {
     "name": "stdout",
     "output_type": "stream",
     "text": [
      "Iteration number 177\n",
      "Current cost 100.147797433\n",
      "Move 1 gives cost of 100.147797433\n",
      "Move 2 gives cost of  inf\n"
     ]
    },
    {
     "name": "stderr",
     "output_type": "stream",
     "text": [
      "WARNING:Optimization:Exception in cost evaluation. Cost set to inf.\n"
     ]
    },
    {
     "name": "stdout",
     "output_type": "stream",
     "text": [
      "Iteration number 178\n",
      "Current cost 100.147797433\n",
      "Move 1 gives cost of 100.147797433\n",
      "Move 2 gives cost of  inf\n"
     ]
    },
    {
     "name": "stderr",
     "output_type": "stream",
     "text": [
      "WARNING:Optimization:Exception in cost evaluation. Cost set to inf.\n"
     ]
    },
    {
     "name": "stdout",
     "output_type": "stream",
     "text": [
      "Iteration number 179\n",
      "Current cost 100.147797433\n",
      "Move 1 gives cost of 100.147797433\n",
      "Move 2 gives cost of  inf\n"
     ]
    },
    {
     "name": "stderr",
     "output_type": "stream",
     "text": [
      "WARNING:Optimization:Exception in cost evaluation. Cost set to inf.\n"
     ]
    },
    {
     "name": "stdout",
     "output_type": "stream",
     "text": [
      "Iteration number 180\n",
      "Current cost 100.147797433\n",
      "Move 1 gives cost of 100.147797433\n",
      "Move 2 gives cost of  inf\n"
     ]
    },
    {
     "name": "stderr",
     "output_type": "stream",
     "text": [
      "WARNING:Optimization:Exception in cost evaluation. Cost set to inf.\n"
     ]
    },
    {
     "name": "stdout",
     "output_type": "stream",
     "text": [
      "Iteration number 181\n",
      "Current cost 100.147797433\n",
      "Move 1 gives cost of 100.147797433\n",
      "Move 2 gives cost of  inf\n"
     ]
    },
    {
     "name": "stderr",
     "output_type": "stream",
     "text": [
      "WARNING:Optimization:Exception in cost evaluation. Cost set to inf.\n"
     ]
    },
    {
     "name": "stdout",
     "output_type": "stream",
     "text": [
      "Iteration number 182\n",
      "Current cost 100.147797433\n",
      "Move 1 gives cost of 100.147797433\n",
      "Move 2 gives cost of  inf\n"
     ]
    },
    {
     "name": "stderr",
     "output_type": "stream",
     "text": [
      "WARNING:Optimization:Exception in cost evaluation. Cost set to inf.\n"
     ]
    },
    {
     "name": "stdout",
     "output_type": "stream",
     "text": [
      "Iteration number 183\n",
      "Current cost 100.147797433\n",
      "Move 1 gives cost of 100.147797433\n",
      "Move 2 gives cost of  inf\n"
     ]
    },
    {
     "name": "stderr",
     "output_type": "stream",
     "text": [
      "WARNING:Optimization:Exception in cost evaluation. Cost set to inf.\n"
     ]
    },
    {
     "name": "stdout",
     "output_type": "stream",
     "text": [
      "Iteration number 184\n",
      "Current cost 100.147797433\n",
      "Move 1 gives cost of 100.147797433\n",
      "Move 2 gives cost of  inf\n"
     ]
    },
    {
     "name": "stderr",
     "output_type": "stream",
     "text": [
      "WARNING:Optimization:Exception in cost evaluation. Cost set to inf.\n"
     ]
    },
    {
     "name": "stdout",
     "output_type": "stream",
     "text": [
      "Iteration number 185\n",
      "Current cost 100.147797433\n",
      "Move 1 gives cost of 100.147797433\n",
      "Move 2 gives cost of  inf\n"
     ]
    },
    {
     "name": "stderr",
     "output_type": "stream",
     "text": [
      "WARNING:Optimization:Exception in cost evaluation. Cost set to inf.\n"
     ]
    },
    {
     "name": "stdout",
     "output_type": "stream",
     "text": [
      "Iteration number 186\n",
      "Current cost 100.147797433\n",
      "Move 1 gives cost of 100.147797433\n",
      "Move 2 gives cost of  inf\n"
     ]
    },
    {
     "name": "stderr",
     "output_type": "stream",
     "text": [
      "WARNING:Optimization:Exception in cost evaluation. Cost set to inf.\n"
     ]
    },
    {
     "name": "stdout",
     "output_type": "stream",
     "text": [
      "Iteration number 187\n",
      "Current cost 100.147797433\n",
      "Move 1 gives cost of 100.147797433\n",
      "Move 2 gives cost of  inf\n"
     ]
    },
    {
     "name": "stderr",
     "output_type": "stream",
     "text": [
      "WARNING:Optimization:Exception in cost evaluation. Cost set to inf.\n"
     ]
    },
    {
     "name": "stdout",
     "output_type": "stream",
     "text": [
      "Iteration number 188\n",
      "Current cost 100.147797433\n",
      "Move 1 gives cost of 100.147797433\n",
      "Move 2 gives cost of  inf\n"
     ]
    },
    {
     "name": "stderr",
     "output_type": "stream",
     "text": [
      "WARNING:Optimization:Exception in cost evaluation. Cost set to inf.\n"
     ]
    },
    {
     "name": "stdout",
     "output_type": "stream",
     "text": [
      "Iteration number 189\n",
      "Current cost 100.147797433\n",
      "Move 1 gives cost of 100.147797433\n",
      "Move 2 gives cost of  inf\n"
     ]
    },
    {
     "name": "stderr",
     "output_type": "stream",
     "text": [
      "WARNING:Optimization:Exception in cost evaluation. Cost set to inf.\n"
     ]
    },
    {
     "name": "stdout",
     "output_type": "stream",
     "text": [
      "Iteration number 190\n",
      "Current cost 100.147797433\n",
      "Move 1 gives cost of 100.147797433\n",
      "Move 2 gives cost of  inf\n"
     ]
    },
    {
     "name": "stderr",
     "output_type": "stream",
     "text": [
      "WARNING:Optimization:Exception in cost evaluation. Cost set to inf.\n"
     ]
    },
    {
     "name": "stdout",
     "output_type": "stream",
     "text": [
      "Iteration number 191\n",
      "Current cost 100.147797433\n",
      "Move 1 gives cost of 100.147797433\n",
      "Move 2 gives cost of  inf\n"
     ]
    },
    {
     "name": "stderr",
     "output_type": "stream",
     "text": [
      "WARNING:Optimization:Exception in cost evaluation. Cost set to inf.\n"
     ]
    },
    {
     "name": "stdout",
     "output_type": "stream",
     "text": [
      "Iteration number 192\n",
      "Current cost 100.147797433\n",
      "Move 1 gives cost of 100.147797433\n",
      "Move 2 gives cost of  inf\n"
     ]
    },
    {
     "name": "stderr",
     "output_type": "stream",
     "text": [
      "WARNING:Optimization:Exception in cost evaluation. Cost set to inf.\n"
     ]
    },
    {
     "name": "stdout",
     "output_type": "stream",
     "text": [
      "Iteration number 193\n",
      "Current cost 100.147797433\n",
      "Move 1 gives cost of 100.147797433\n",
      "Move 2 gives cost of  inf\n"
     ]
    },
    {
     "name": "stderr",
     "output_type": "stream",
     "text": [
      "WARNING:Optimization:Exception in cost evaluation. Cost set to inf.\n"
     ]
    },
    {
     "name": "stdout",
     "output_type": "stream",
     "text": [
      "Iteration number 194\n",
      "Current cost 100.147797433\n",
      "Move 1 gives cost of 100.147797433\n",
      "Move 2 gives cost of  inf\n"
     ]
    },
    {
     "name": "stderr",
     "output_type": "stream",
     "text": [
      "WARNING:Optimization:Exception in cost evaluation. Cost set to inf.\n"
     ]
    },
    {
     "name": "stdout",
     "output_type": "stream",
     "text": [
      "Iteration number 195\n",
      "Current cost 100.147797433\n",
      "Move 1 gives cost of 100.147797433\n",
      "Move 2 gives cost of  inf\n"
     ]
    },
    {
     "name": "stderr",
     "output_type": "stream",
     "text": [
      "WARNING:Optimization:Exception in cost evaluation. Cost set to inf.\n"
     ]
    },
    {
     "name": "stdout",
     "output_type": "stream",
     "text": [
      "Iteration number 196\n",
      "Current cost 100.147797433\n",
      "Move 1 gives cost of 100.147797433\n",
      "Move 2 gives cost of  inf\n"
     ]
    },
    {
     "name": "stderr",
     "output_type": "stream",
     "text": [
      "WARNING:Optimization:Exception in cost evaluation. Cost set to inf.\n"
     ]
    },
    {
     "name": "stdout",
     "output_type": "stream",
     "text": [
      "Iteration number 197\n",
      "Current cost 100.147797433\n",
      "Move 1 gives cost of 100.147797433\n",
      "Move 2 gives cost of  inf\n"
     ]
    },
    {
     "name": "stderr",
     "output_type": "stream",
     "text": [
      "WARNING:Optimization:Exception in cost evaluation. Cost set to inf.\n"
     ]
    },
    {
     "name": "stdout",
     "output_type": "stream",
     "text": [
      "Iteration number 198\n",
      "Current cost 100.147797433\n",
      "Move 1 gives cost of 100.147797433\n",
      "Move 2 gives cost of  inf\n"
     ]
    },
    {
     "name": "stderr",
     "output_type": "stream",
     "text": [
      "WARNING:Optimization:Exception in cost evaluation. Cost set to inf.\n"
     ]
    },
    {
     "name": "stdout",
     "output_type": "stream",
     "text": [
      "Iteration number 199\n",
      "Current cost 100.147797433\n",
      "Move 1 gives cost of 100.147797433\n",
      "Move 2 gives cost of  inf\n",
      " Current function value: 100.147797\n",
      " Iterations: 200\n",
      " Function evaluations: 618\n",
      " Gradient evaluations: 201\n",
      " Maximum number of iterations exceeded with no convergence \n"
     ]
    }
   ],
   "source": [
    "params_opt = Optimization.fmin_lm_log_params(m, params_ic_opt, maxiter=200, disp=True)"
   ]
  },
  {
   "cell_type": "code",
   "execution_count": 44,
   "metadata": {},
   "outputs": [],
   "source": [
    "traj = model_ic_c.integrate(np.linspace(0,1100,101), params_ic_opt)\n",
    "traj_c = model_ic.integrate([0,1100], params_opt)\n",
    "traj_mps1 = model_mps1.integrate([0,1100], params_opt)\n",
    "traj_aurb = model_aurb.integrate([0,1100], params_opt)"
   ]
  },
  {
   "cell_type": "code",
   "execution_count": 45,
   "metadata": {
    "scrolled": true
   },
   "outputs": [
    {
     "data": {
      "text/plain": [
       "(990, 1100)"
      ]
     },
     "execution_count": 45,
     "metadata": {},
     "output_type": "execute_result"
    },
    {
     "data": {
      "image/png": "[encoded data removed]",
      "text/plain": [
       "<matplotlib.figure.Figure at 0x111264890>"
      ]
     },
     "metadata": {},
     "output_type": "display_data"
    }
   ],
   "source": [
    "plt.plot(traj.timepoints, traj.get_var_traj('prvsf'), 'b-')\n",
    "plt.plot(traj.timepoints, traj.get_var_traj('pmelt_tot'), 'r-')\n",
    "#plt.plot(traj_c.timepoints, traj_c.get_var_traj('prvsf'), 'b--')\n",
    "#plt.plot(traj_c.timepoints, traj_c.get_var_traj('pmelt_tot'), 'r--')\n",
    "#plt.plot(traj_mps1.timepoints, traj_mps1.get_var_traj('prvsf'), 'b--')\n",
    "#plt.plot(traj_mps1.timepoints, traj_mps1.get_var_traj('pmelt_tot'), 'r--')\n",
    "#plt.plot(traj_aurb.timepoints, traj_aurb.get_var_traj('prvsf'), 'b:')\n",
    "#plt.plot(traj_aurb.timepoints, traj_aurb.get_var_traj('pmelt_tot'), 'r:')\n",
    "plt.ylim([0,1])\n",
    "plt.xlim([990,1100])"
   ]
  },
  {
   "cell_type": "code",
   "execution_count": null,
   "metadata": {
    "collapsed": true
   },
   "outputs": [],
   "source": []
  }
 ],
 "metadata": {
  "kernelspec": {
   "display_name": "Python 2",
   "language": "python",
   "name": "python2"
  },
  "language_info": {
   "codemirror_mode": {
    "name": "ipython",
    "version": 2
   },
   "file_extension": ".py",
   "mimetype": "text/x-python",
   "name": "python",
   "nbconvert_exporter": "python",
   "pygments_lexer": "ipython2",
   "version": "2.7.13"
  }
 },
 "nbformat": 4,
 "nbformat_minor": 2
}
